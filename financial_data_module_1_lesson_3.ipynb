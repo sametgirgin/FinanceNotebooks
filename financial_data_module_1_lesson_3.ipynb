{
  "cells": [
    {
      "cell_type": "markdown",
      "metadata": {
        "id": "view-in-github",
        "colab_type": "text"
      },
      "source": [
        "<a href=\"https://colab.research.google.com/github/sametgirgin/FinanceNotebooks/blob/main/financial_data_module_1_lesson_3.ipynb\" target=\"_parent\"><img src=\"https://colab.research.google.com/assets/colab-badge.svg\" alt=\"Open In Colab\"/></a>"
      ]
    },
    {
      "cell_type": "markdown",
      "metadata": {
        "id": "sQfsxvu2MrAc"
      },
      "source": [
        "##### MODULE 1 | LESSON 3\n",
        "# GOVERNMENT BOND YIELD CURVE ANALYSIS"
      ]
    },
    {
      "cell_type": "markdown",
      "metadata": {
        "id": "aSW9-996Miww"
      },
      "source": [
        "|  |  |\n",
        "|:---|:---|\n",
        "|**Reading Time** 60 minutes |   |\n",
        "|**Prior Knowledge** U.S. Treasury Bonds, Yield Curve, Linear Algebra, Basic Python |   |\n",
        "|**Keywords** Bond price-yield curve, Risk free interest rate, Nelson Siegel, Cubic Spline|  |\n",
        "\n",
        "---"
      ]
    },
    {
      "cell_type": "markdown",
      "metadata": {
        "id": "t6JWZbCYFhmI"
      },
      "source": [
        "*In the previous lesson, we learned how to obtain U.S. Treasury yield information and went through some foundational concepts about yield curve. In this lesson, we are going to dive deeper and learn how to fit a bond yield curve. We will continue to use U.S. Treasury yield data for demonstration.*"
      ]
    },
    {
      "cell_type": "markdown",
      "metadata": {
        "id": "4tsZsezGth8R",
        "tags": []
      },
      "source": [
        "## **1. Risk-Free Interest Rates**\n",
        "\n",
        "In the Financial Markets course, we learned about credit risk with investing in bonds. Credit risk, which is assumed by the bond investor, is the risk that the bond issuer will default on the bond. An entity with a high credit rating or credit score can borrow money from financial markets at a lower interest rate compared to an entity with a lower credit rating. In the U.S., government-issued bonds (U.S. Treasuries or Treasuries) are usually considered high credit rating bonds. Therefore, Treasury yields are usually used as **risk-free rates** for bond price evaluations in the financial industry. There are a lot of debates about whether U.S. Treasuries are actually safe with no risk of default. Different scenarios will need different considerations. In this lesson, we'll follow current financial market convention by using U.S. Treasury yields as risk-free rates.\n",
        "<br>\n",
        "<br>\n",
        "Another key concept in credit risk is credit spread. **Credit spread** or **credit premium** is the interest rate difference between a corporate bond and a government bond of the same maturity. This interest rate difference is also called **excess return** of the corporate bond since the government bond yield is risk-free interest. The excess return of the corporate bond is the additional return to a corporate bond holder to take on additional risk in holding this corporate bond.\n",
        "<br>\n",
        "<br>\n",
        "Since risk-free interest rates are a key element not only in bond pricing but also in other financial asset pricing and portfolio management, it is crucial to understand the characteristics and behavior of risk-free interest. In this lesson, we will use U.S. treasury (or treasuries) yields as risk-free interest to investigate their behavior and conduct analysis.\n",
        "<br>\n",
        "<br>\n",
        "## **2. Volatility of U.S. Treasury Yields**\n",
        "First, let's take a look of the volatilities of Treasury yields of different maturities. We continue from Lesson 2's method to get Treasury yield data from FRED using Python as follows."
      ]
    },
    {
      "cell_type": "code",
      "source": [
        "! pip install fredapi"
      ],
      "metadata": {
        "colab": {
          "base_uri": "https://localhost:8080/"
        },
        "collapsed": true,
        "id": "8iNB2OHqrHzH",
        "outputId": "902d818e-cdad-4f14-d113-7bc9aa287cd0"
      },
      "execution_count": 2,
      "outputs": [
        {
          "output_type": "stream",
          "name": "stdout",
          "text": [
            "Collecting fredapi\n",
            "  Downloading fredapi-0.5.2-py3-none-any.whl.metadata (5.0 kB)\n",
            "Requirement already satisfied: pandas in /usr/local/lib/python3.12/dist-packages (from fredapi) (2.2.2)\n",
            "Requirement already satisfied: numpy>=1.26.0 in /usr/local/lib/python3.12/dist-packages (from pandas->fredapi) (2.0.2)\n",
            "Requirement already satisfied: python-dateutil>=2.8.2 in /usr/local/lib/python3.12/dist-packages (from pandas->fredapi) (2.9.0.post0)\n",
            "Requirement already satisfied: pytz>=2020.1 in /usr/local/lib/python3.12/dist-packages (from pandas->fredapi) (2025.2)\n",
            "Requirement already satisfied: tzdata>=2022.7 in /usr/local/lib/python3.12/dist-packages (from pandas->fredapi) (2025.2)\n",
            "Requirement already satisfied: six>=1.5 in /usr/local/lib/python3.12/dist-packages (from python-dateutil>=2.8.2->pandas->fredapi) (1.17.0)\n",
            "Downloading fredapi-0.5.2-py3-none-any.whl (11 kB)\n",
            "Installing collected packages: fredapi\n",
            "Successfully installed fredapi-0.5.2\n"
          ]
        }
      ]
    },
    {
      "cell_type": "code",
      "execution_count": 3,
      "metadata": {
        "id": "Y4nhGkA9VrxL",
        "tags": []
      },
      "outputs": [],
      "source": [
        "import pandas as pd\n",
        "from fredapi import Fred\n",
        "import matplotlib.pyplot as plt\n",
        "import seaborn as sns\n",
        "sns.set()"
      ]
    },
    {
      "cell_type": "code",
      "execution_count": 33,
      "metadata": {
        "id": "4cCIgBcMV6df",
        "tags": []
      },
      "outputs": [],
      "source": [
        "# Initialize the FRED API with your key\n",
        "fred = Fred(api_key='**') # Replace my APIKEY with \"YOUR_API_KEY\" #https://fred.stlouisfed.org/docs/api/fred/\n",
        "\n",
        "# List of Treasury yield series IDs\n",
        "series_ids = ['DGS1MO', 'DGS3MO', 'DGS6MO', 'DGS1', 'DGS2', 'DGS3', 'DGS5', \\\n",
        "              'DGS7', 'DGS10', 'DGS20', 'DGS30']\n",
        "\n",
        "# Function to get data for a single series\n",
        "def get_yield_data(series_id):\n",
        "    data = fred.get_series(series_id, observation_start=\"1975-01-01\", observation_end=\"2024-05-03\")\n",
        "    return data\n",
        "\n",
        "# Get data for all series\n",
        "yields_dict = {series_id: get_yield_data(series_id) for series_id in series_ids}\n",
        "\n",
        "# Combine into a single DataFrame\n",
        "yields = pd.DataFrame(yields_dict)\n",
        "\n",
        "# Rename columns for clarity\n",
        "yields.columns = ['1 Month', '3 Month', '6 Month', '1 Year', '2 Year', '3 Year', '5 Year', \\\n",
        "                  '7 Year', '10 Year', '20 Year', '30 Year']"
      ]
    },
    {
      "cell_type": "code",
      "source": [
        "yields"
      ],
      "metadata": {
        "colab": {
          "base_uri": "https://localhost:8080/",
          "height": 423
        },
        "id": "FlNkOyuktxgd",
        "outputId": "0f3da8b2-7ddb-4919-b583-c635e62a9baa"
      },
      "execution_count": 9,
      "outputs": [
        {
          "output_type": "execute_result",
          "data": {
            "text/plain": [
              "            1 Month  3 Month  6 Month  1 Year  2 Year  3 Year  5 Year  7 Year  \\\n",
              "1975-01-01      NaN      NaN      NaN     NaN     NaN     NaN     NaN     NaN   \n",
              "1975-01-02      NaN      NaN      NaN    7.27     NaN    7.34    7.34    7.34   \n",
              "1975-01-03      NaN      NaN      NaN    7.19     NaN    7.33    7.36    7.36   \n",
              "1975-01-06      NaN      NaN      NaN    7.10     NaN    7.29    7.34    7.33   \n",
              "1975-01-07      NaN      NaN      NaN    7.00     NaN    7.26    7.35    7.34   \n",
              "...             ...      ...      ...     ...     ...     ...     ...     ...   \n",
              "2024-04-29     5.48     5.45     5.43    5.20    4.97    4.80    4.65    4.64   \n",
              "2024-04-30     5.48     5.46     5.44    5.25    5.04    4.87    4.72    4.71   \n",
              "2024-05-01     5.47     5.46     5.43    5.21    4.96    4.79    4.64    4.64   \n",
              "2024-05-02     5.51     5.46     5.42    5.16    4.87    4.71    4.57    4.57   \n",
              "2024-05-03     5.51     5.45     5.41    5.12    4.81    4.63    4.48    4.49   \n",
              "\n",
              "            10 Year  20 Year  30 Year  \n",
              "1975-01-01      NaN      NaN      NaN  \n",
              "1975-01-02     7.42     7.94      NaN  \n",
              "1975-01-03     7.43     7.92      NaN  \n",
              "1975-01-06     7.39     7.89      NaN  \n",
              "1975-01-07     7.38     7.89      NaN  \n",
              "...             ...      ...      ...  \n",
              "2024-04-29     4.63     4.86     4.75  \n",
              "2024-04-30     4.69     4.90     4.79  \n",
              "2024-05-01     4.63     4.85     4.74  \n",
              "2024-05-02     4.58     4.82     4.72  \n",
              "2024-05-03     4.50     4.75     4.66  \n",
              "\n",
              "[12873 rows x 11 columns]"
            ],
            "text/html": [
              "\n",
              "  <div id=\"df-6bf41546-061c-4e80-aa0f-015900ad7cd6\" class=\"colab-df-container\">\n",
              "    <div>\n",
              "<style scoped>\n",
              "    .dataframe tbody tr th:only-of-type {\n",
              "        vertical-align: middle;\n",
              "    }\n",
              "\n",
              "    .dataframe tbody tr th {\n",
              "        vertical-align: top;\n",
              "    }\n",
              "\n",
              "    .dataframe thead th {\n",
              "        text-align: right;\n",
              "    }\n",
              "</style>\n",
              "<table border=\"1\" class=\"dataframe\">\n",
              "  <thead>\n",
              "    <tr style=\"text-align: right;\">\n",
              "      <th></th>\n",
              "      <th>1 Month</th>\n",
              "      <th>3 Month</th>\n",
              "      <th>6 Month</th>\n",
              "      <th>1 Year</th>\n",
              "      <th>2 Year</th>\n",
              "      <th>3 Year</th>\n",
              "      <th>5 Year</th>\n",
              "      <th>7 Year</th>\n",
              "      <th>10 Year</th>\n",
              "      <th>20 Year</th>\n",
              "      <th>30 Year</th>\n",
              "    </tr>\n",
              "  </thead>\n",
              "  <tbody>\n",
              "    <tr>\n",
              "      <th>1975-01-01</th>\n",
              "      <td>NaN</td>\n",
              "      <td>NaN</td>\n",
              "      <td>NaN</td>\n",
              "      <td>NaN</td>\n",
              "      <td>NaN</td>\n",
              "      <td>NaN</td>\n",
              "      <td>NaN</td>\n",
              "      <td>NaN</td>\n",
              "      <td>NaN</td>\n",
              "      <td>NaN</td>\n",
              "      <td>NaN</td>\n",
              "    </tr>\n",
              "    <tr>\n",
              "      <th>1975-01-02</th>\n",
              "      <td>NaN</td>\n",
              "      <td>NaN</td>\n",
              "      <td>NaN</td>\n",
              "      <td>7.27</td>\n",
              "      <td>NaN</td>\n",
              "      <td>7.34</td>\n",
              "      <td>7.34</td>\n",
              "      <td>7.34</td>\n",
              "      <td>7.42</td>\n",
              "      <td>7.94</td>\n",
              "      <td>NaN</td>\n",
              "    </tr>\n",
              "    <tr>\n",
              "      <th>1975-01-03</th>\n",
              "      <td>NaN</td>\n",
              "      <td>NaN</td>\n",
              "      <td>NaN</td>\n",
              "      <td>7.19</td>\n",
              "      <td>NaN</td>\n",
              "      <td>7.33</td>\n",
              "      <td>7.36</td>\n",
              "      <td>7.36</td>\n",
              "      <td>7.43</td>\n",
              "      <td>7.92</td>\n",
              "      <td>NaN</td>\n",
              "    </tr>\n",
              "    <tr>\n",
              "      <th>1975-01-06</th>\n",
              "      <td>NaN</td>\n",
              "      <td>NaN</td>\n",
              "      <td>NaN</td>\n",
              "      <td>7.10</td>\n",
              "      <td>NaN</td>\n",
              "      <td>7.29</td>\n",
              "      <td>7.34</td>\n",
              "      <td>7.33</td>\n",
              "      <td>7.39</td>\n",
              "      <td>7.89</td>\n",
              "      <td>NaN</td>\n",
              "    </tr>\n",
              "    <tr>\n",
              "      <th>1975-01-07</th>\n",
              "      <td>NaN</td>\n",
              "      <td>NaN</td>\n",
              "      <td>NaN</td>\n",
              "      <td>7.00</td>\n",
              "      <td>NaN</td>\n",
              "      <td>7.26</td>\n",
              "      <td>7.35</td>\n",
              "      <td>7.34</td>\n",
              "      <td>7.38</td>\n",
              "      <td>7.89</td>\n",
              "      <td>NaN</td>\n",
              "    </tr>\n",
              "    <tr>\n",
              "      <th>...</th>\n",
              "      <td>...</td>\n",
              "      <td>...</td>\n",
              "      <td>...</td>\n",
              "      <td>...</td>\n",
              "      <td>...</td>\n",
              "      <td>...</td>\n",
              "      <td>...</td>\n",
              "      <td>...</td>\n",
              "      <td>...</td>\n",
              "      <td>...</td>\n",
              "      <td>...</td>\n",
              "    </tr>\n",
              "    <tr>\n",
              "      <th>2024-04-29</th>\n",
              "      <td>5.48</td>\n",
              "      <td>5.45</td>\n",
              "      <td>5.43</td>\n",
              "      <td>5.20</td>\n",
              "      <td>4.97</td>\n",
              "      <td>4.80</td>\n",
              "      <td>4.65</td>\n",
              "      <td>4.64</td>\n",
              "      <td>4.63</td>\n",
              "      <td>4.86</td>\n",
              "      <td>4.75</td>\n",
              "    </tr>\n",
              "    <tr>\n",
              "      <th>2024-04-30</th>\n",
              "      <td>5.48</td>\n",
              "      <td>5.46</td>\n",
              "      <td>5.44</td>\n",
              "      <td>5.25</td>\n",
              "      <td>5.04</td>\n",
              "      <td>4.87</td>\n",
              "      <td>4.72</td>\n",
              "      <td>4.71</td>\n",
              "      <td>4.69</td>\n",
              "      <td>4.90</td>\n",
              "      <td>4.79</td>\n",
              "    </tr>\n",
              "    <tr>\n",
              "      <th>2024-05-01</th>\n",
              "      <td>5.47</td>\n",
              "      <td>5.46</td>\n",
              "      <td>5.43</td>\n",
              "      <td>5.21</td>\n",
              "      <td>4.96</td>\n",
              "      <td>4.79</td>\n",
              "      <td>4.64</td>\n",
              "      <td>4.64</td>\n",
              "      <td>4.63</td>\n",
              "      <td>4.85</td>\n",
              "      <td>4.74</td>\n",
              "    </tr>\n",
              "    <tr>\n",
              "      <th>2024-05-02</th>\n",
              "      <td>5.51</td>\n",
              "      <td>5.46</td>\n",
              "      <td>5.42</td>\n",
              "      <td>5.16</td>\n",
              "      <td>4.87</td>\n",
              "      <td>4.71</td>\n",
              "      <td>4.57</td>\n",
              "      <td>4.57</td>\n",
              "      <td>4.58</td>\n",
              "      <td>4.82</td>\n",
              "      <td>4.72</td>\n",
              "    </tr>\n",
              "    <tr>\n",
              "      <th>2024-05-03</th>\n",
              "      <td>5.51</td>\n",
              "      <td>5.45</td>\n",
              "      <td>5.41</td>\n",
              "      <td>5.12</td>\n",
              "      <td>4.81</td>\n",
              "      <td>4.63</td>\n",
              "      <td>4.48</td>\n",
              "      <td>4.49</td>\n",
              "      <td>4.50</td>\n",
              "      <td>4.75</td>\n",
              "      <td>4.66</td>\n",
              "    </tr>\n",
              "  </tbody>\n",
              "</table>\n",
              "<p>12873 rows × 11 columns</p>\n",
              "</div>\n",
              "    <div class=\"colab-df-buttons\">\n",
              "\n",
              "  <div class=\"colab-df-container\">\n",
              "    <button class=\"colab-df-convert\" onclick=\"convertToInteractive('df-6bf41546-061c-4e80-aa0f-015900ad7cd6')\"\n",
              "            title=\"Convert this dataframe to an interactive table.\"\n",
              "            style=\"display:none;\">\n",
              "\n",
              "  <svg xmlns=\"http://www.w3.org/2000/svg\" height=\"24px\" viewBox=\"0 -960 960 960\">\n",
              "    <path d=\"M120-120v-720h720v720H120Zm60-500h600v-160H180v160Zm220 220h160v-160H400v160Zm0 220h160v-160H400v160ZM180-400h160v-160H180v160Zm440 0h160v-160H620v160ZM180-180h160v-160H180v160Zm440 0h160v-160H620v160Z\"/>\n",
              "  </svg>\n",
              "    </button>\n",
              "\n",
              "  <style>\n",
              "    .colab-df-container {\n",
              "      display:flex;\n",
              "      gap: 12px;\n",
              "    }\n",
              "\n",
              "    .colab-df-convert {\n",
              "      background-color: #E8F0FE;\n",
              "      border: none;\n",
              "      border-radius: 50%;\n",
              "      cursor: pointer;\n",
              "      display: none;\n",
              "      fill: #1967D2;\n",
              "      height: 32px;\n",
              "      padding: 0 0 0 0;\n",
              "      width: 32px;\n",
              "    }\n",
              "\n",
              "    .colab-df-convert:hover {\n",
              "      background-color: #E2EBFA;\n",
              "      box-shadow: 0px 1px 2px rgba(60, 64, 67, 0.3), 0px 1px 3px 1px rgba(60, 64, 67, 0.15);\n",
              "      fill: #174EA6;\n",
              "    }\n",
              "\n",
              "    .colab-df-buttons div {\n",
              "      margin-bottom: 4px;\n",
              "    }\n",
              "\n",
              "    [theme=dark] .colab-df-convert {\n",
              "      background-color: #3B4455;\n",
              "      fill: #D2E3FC;\n",
              "    }\n",
              "\n",
              "    [theme=dark] .colab-df-convert:hover {\n",
              "      background-color: #434B5C;\n",
              "      box-shadow: 0px 1px 3px 1px rgba(0, 0, 0, 0.15);\n",
              "      filter: drop-shadow(0px 1px 2px rgba(0, 0, 0, 0.3));\n",
              "      fill: #FFFFFF;\n",
              "    }\n",
              "  </style>\n",
              "\n",
              "    <script>\n",
              "      const buttonEl =\n",
              "        document.querySelector('#df-6bf41546-061c-4e80-aa0f-015900ad7cd6 button.colab-df-convert');\n",
              "      buttonEl.style.display =\n",
              "        google.colab.kernel.accessAllowed ? 'block' : 'none';\n",
              "\n",
              "      async function convertToInteractive(key) {\n",
              "        const element = document.querySelector('#df-6bf41546-061c-4e80-aa0f-015900ad7cd6');\n",
              "        const dataTable =\n",
              "          await google.colab.kernel.invokeFunction('convertToInteractive',\n",
              "                                                    [key], {});\n",
              "        if (!dataTable) return;\n",
              "\n",
              "        const docLinkHtml = 'Like what you see? Visit the ' +\n",
              "          '<a target=\"_blank\" href=https://colab.research.google.com/notebooks/data_table.ipynb>data table notebook</a>'\n",
              "          + ' to learn more about interactive tables.';\n",
              "        element.innerHTML = '';\n",
              "        dataTable['output_type'] = 'display_data';\n",
              "        await google.colab.output.renderOutput(dataTable, element);\n",
              "        const docLink = document.createElement('div');\n",
              "        docLink.innerHTML = docLinkHtml;\n",
              "        element.appendChild(docLink);\n",
              "      }\n",
              "    </script>\n",
              "  </div>\n",
              "\n",
              "\n",
              "    <div id=\"df-b62d86aa-fdb0-41f8-a555-e21fd7275857\">\n",
              "      <button class=\"colab-df-quickchart\" onclick=\"quickchart('df-b62d86aa-fdb0-41f8-a555-e21fd7275857')\"\n",
              "                title=\"Suggest charts\"\n",
              "                style=\"display:none;\">\n",
              "\n",
              "<svg xmlns=\"http://www.w3.org/2000/svg\" height=\"24px\"viewBox=\"0 0 24 24\"\n",
              "     width=\"24px\">\n",
              "    <g>\n",
              "        <path d=\"M19 3H5c-1.1 0-2 .9-2 2v14c0 1.1.9 2 2 2h14c1.1 0 2-.9 2-2V5c0-1.1-.9-2-2-2zM9 17H7v-7h2v7zm4 0h-2V7h2v10zm4 0h-2v-4h2v4z\"/>\n",
              "    </g>\n",
              "</svg>\n",
              "      </button>\n",
              "\n",
              "<style>\n",
              "  .colab-df-quickchart {\n",
              "      --bg-color: #E8F0FE;\n",
              "      --fill-color: #1967D2;\n",
              "      --hover-bg-color: #E2EBFA;\n",
              "      --hover-fill-color: #174EA6;\n",
              "      --disabled-fill-color: #AAA;\n",
              "      --disabled-bg-color: #DDD;\n",
              "  }\n",
              "\n",
              "  [theme=dark] .colab-df-quickchart {\n",
              "      --bg-color: #3B4455;\n",
              "      --fill-color: #D2E3FC;\n",
              "      --hover-bg-color: #434B5C;\n",
              "      --hover-fill-color: #FFFFFF;\n",
              "      --disabled-bg-color: #3B4455;\n",
              "      --disabled-fill-color: #666;\n",
              "  }\n",
              "\n",
              "  .colab-df-quickchart {\n",
              "    background-color: var(--bg-color);\n",
              "    border: none;\n",
              "    border-radius: 50%;\n",
              "    cursor: pointer;\n",
              "    display: none;\n",
              "    fill: var(--fill-color);\n",
              "    height: 32px;\n",
              "    padding: 0;\n",
              "    width: 32px;\n",
              "  }\n",
              "\n",
              "  .colab-df-quickchart:hover {\n",
              "    background-color: var(--hover-bg-color);\n",
              "    box-shadow: 0 1px 2px rgba(60, 64, 67, 0.3), 0 1px 3px 1px rgba(60, 64, 67, 0.15);\n",
              "    fill: var(--button-hover-fill-color);\n",
              "  }\n",
              "\n",
              "  .colab-df-quickchart-complete:disabled,\n",
              "  .colab-df-quickchart-complete:disabled:hover {\n",
              "    background-color: var(--disabled-bg-color);\n",
              "    fill: var(--disabled-fill-color);\n",
              "    box-shadow: none;\n",
              "  }\n",
              "\n",
              "  .colab-df-spinner {\n",
              "    border: 2px solid var(--fill-color);\n",
              "    border-color: transparent;\n",
              "    border-bottom-color: var(--fill-color);\n",
              "    animation:\n",
              "      spin 1s steps(1) infinite;\n",
              "  }\n",
              "\n",
              "  @keyframes spin {\n",
              "    0% {\n",
              "      border-color: transparent;\n",
              "      border-bottom-color: var(--fill-color);\n",
              "      border-left-color: var(--fill-color);\n",
              "    }\n",
              "    20% {\n",
              "      border-color: transparent;\n",
              "      border-left-color: var(--fill-color);\n",
              "      border-top-color: var(--fill-color);\n",
              "    }\n",
              "    30% {\n",
              "      border-color: transparent;\n",
              "      border-left-color: var(--fill-color);\n",
              "      border-top-color: var(--fill-color);\n",
              "      border-right-color: var(--fill-color);\n",
              "    }\n",
              "    40% {\n",
              "      border-color: transparent;\n",
              "      border-right-color: var(--fill-color);\n",
              "      border-top-color: var(--fill-color);\n",
              "    }\n",
              "    60% {\n",
              "      border-color: transparent;\n",
              "      border-right-color: var(--fill-color);\n",
              "    }\n",
              "    80% {\n",
              "      border-color: transparent;\n",
              "      border-right-color: var(--fill-color);\n",
              "      border-bottom-color: var(--fill-color);\n",
              "    }\n",
              "    90% {\n",
              "      border-color: transparent;\n",
              "      border-bottom-color: var(--fill-color);\n",
              "    }\n",
              "  }\n",
              "</style>\n",
              "\n",
              "      <script>\n",
              "        async function quickchart(key) {\n",
              "          const quickchartButtonEl =\n",
              "            document.querySelector('#' + key + ' button');\n",
              "          quickchartButtonEl.disabled = true;  // To prevent multiple clicks.\n",
              "          quickchartButtonEl.classList.add('colab-df-spinner');\n",
              "          try {\n",
              "            const charts = await google.colab.kernel.invokeFunction(\n",
              "                'suggestCharts', [key], {});\n",
              "          } catch (error) {\n",
              "            console.error('Error during call to suggestCharts:', error);\n",
              "          }\n",
              "          quickchartButtonEl.classList.remove('colab-df-spinner');\n",
              "          quickchartButtonEl.classList.add('colab-df-quickchart-complete');\n",
              "        }\n",
              "        (() => {\n",
              "          let quickchartButtonEl =\n",
              "            document.querySelector('#df-b62d86aa-fdb0-41f8-a555-e21fd7275857 button');\n",
              "          quickchartButtonEl.style.display =\n",
              "            google.colab.kernel.accessAllowed ? 'block' : 'none';\n",
              "        })();\n",
              "      </script>\n",
              "    </div>\n",
              "\n",
              "  <div id=\"id_3cabd1d6-dae5-4c80-9bfe-2cefdb7a40c8\">\n",
              "    <style>\n",
              "      .colab-df-generate {\n",
              "        background-color: #E8F0FE;\n",
              "        border: none;\n",
              "        border-radius: 50%;\n",
              "        cursor: pointer;\n",
              "        display: none;\n",
              "        fill: #1967D2;\n",
              "        height: 32px;\n",
              "        padding: 0 0 0 0;\n",
              "        width: 32px;\n",
              "      }\n",
              "\n",
              "      .colab-df-generate:hover {\n",
              "        background-color: #E2EBFA;\n",
              "        box-shadow: 0px 1px 2px rgba(60, 64, 67, 0.3), 0px 1px 3px 1px rgba(60, 64, 67, 0.15);\n",
              "        fill: #174EA6;\n",
              "      }\n",
              "\n",
              "      [theme=dark] .colab-df-generate {\n",
              "        background-color: #3B4455;\n",
              "        fill: #D2E3FC;\n",
              "      }\n",
              "\n",
              "      [theme=dark] .colab-df-generate:hover {\n",
              "        background-color: #434B5C;\n",
              "        box-shadow: 0px 1px 3px 1px rgba(0, 0, 0, 0.15);\n",
              "        filter: drop-shadow(0px 1px 2px rgba(0, 0, 0, 0.3));\n",
              "        fill: #FFFFFF;\n",
              "      }\n",
              "    </style>\n",
              "    <button class=\"colab-df-generate\" onclick=\"generateWithVariable('yields')\"\n",
              "            title=\"Generate code using this dataframe.\"\n",
              "            style=\"display:none;\">\n",
              "\n",
              "  <svg xmlns=\"http://www.w3.org/2000/svg\" height=\"24px\"viewBox=\"0 0 24 24\"\n",
              "       width=\"24px\">\n",
              "    <path d=\"M7,19H8.4L18.45,9,17,7.55,7,17.6ZM5,21V16.75L18.45,3.32a2,2,0,0,1,2.83,0l1.4,1.43a1.91,1.91,0,0,1,.58,1.4,1.91,1.91,0,0,1-.58,1.4L9.25,21ZM18.45,9,17,7.55Zm-12,3A5.31,5.31,0,0,0,4.9,8.1,5.31,5.31,0,0,0,1,6.5,5.31,5.31,0,0,0,4.9,4.9,5.31,5.31,0,0,0,6.5,1,5.31,5.31,0,0,0,8.1,4.9,5.31,5.31,0,0,0,12,6.5,5.46,5.46,0,0,0,6.5,12Z\"/>\n",
              "  </svg>\n",
              "    </button>\n",
              "    <script>\n",
              "      (() => {\n",
              "      const buttonEl =\n",
              "        document.querySelector('#id_3cabd1d6-dae5-4c80-9bfe-2cefdb7a40c8 button.colab-df-generate');\n",
              "      buttonEl.style.display =\n",
              "        google.colab.kernel.accessAllowed ? 'block' : 'none';\n",
              "\n",
              "      buttonEl.onclick = () => {\n",
              "        google.colab.notebook.generateWithVariable('yields');\n",
              "      }\n",
              "      })();\n",
              "    </script>\n",
              "  </div>\n",
              "\n",
              "    </div>\n",
              "  </div>\n"
            ],
            "application/vnd.google.colaboratory.intrinsic+json": {
              "type": "dataframe",
              "variable_name": "yields",
              "summary": "{\n  \"name\": \"yields\",\n  \"rows\": 12873,\n  \"fields\": [\n    {\n      \"column\": \"1 Month\",\n      \"properties\": {\n        \"dtype\": \"number\",\n        \"std\": 1.7058509538091577,\n        \"min\": 0.0,\n        \"max\": 6.02,\n        \"num_unique_values\": 539,\n        \"samples\": [\n          0.65,\n          1.82,\n          5.22\n        ],\n        \"semantic_type\": \"\",\n        \"description\": \"\"\n      }\n    },\n    {\n      \"column\": \"3 Month\",\n      \"properties\": {\n        \"dtype\": \"number\",\n        \"std\": 3.1896456758180434,\n        \"min\": 0.0,\n        \"max\": 17.01,\n        \"num_unique_values\": 1214,\n        \"samples\": [\n          3.84,\n          3.24,\n          11.74\n        ],\n        \"semantic_type\": \"\",\n        \"description\": \"\"\n      }\n    },\n    {\n      \"column\": \"6 Month\",\n      \"properties\": {\n        \"dtype\": \"number\",\n        \"std\": 3.295823784835611,\n        \"min\": 0.02,\n        \"max\": 17.43,\n        \"num_unique_values\": 1256,\n        \"samples\": [\n          10.22,\n          15.28,\n          11.42\n        ],\n        \"semantic_type\": \"\",\n        \"description\": \"\"\n      }\n    },\n    {\n      \"column\": \"1 Year\",\n      \"properties\": {\n        \"dtype\": \"number\",\n        \"std\": 3.721874859189831,\n        \"min\": 0.04,\n        \"max\": 17.31,\n        \"num_unique_values\": 1494,\n        \"samples\": [\n          9.44,\n          10.65,\n          0.98\n        ],\n        \"semantic_type\": \"\",\n        \"description\": \"\"\n      }\n    },\n    {\n      \"column\": \"2 Year\",\n      \"properties\": {\n        \"dtype\": \"number\",\n        \"std\": 3.7338404503876594,\n        \"min\": 0.09,\n        \"max\": 16.95,\n        \"num_unique_values\": 1490,\n        \"samples\": [\n          5.65,\n          9.0,\n          9.76\n        ],\n        \"semantic_type\": \"\",\n        \"description\": \"\"\n      }\n    },\n    {\n      \"column\": \"3 Year\",\n      \"properties\": {\n        \"dtype\": \"number\",\n        \"std\": 3.6210929821813704,\n        \"min\": 0.1,\n        \"max\": 16.59,\n        \"num_unique_values\": 1473,\n        \"samples\": [\n          10.28,\n          6.32,\n          1.67\n        ],\n        \"semantic_type\": \"\",\n        \"description\": \"\"\n      }\n    },\n    {\n      \"column\": \"5 Year\",\n      \"properties\": {\n        \"dtype\": \"number\",\n        \"std\": 3.4853733966291345,\n        \"min\": 0.19,\n        \"max\": 16.27,\n        \"num_unique_values\": 1456,\n        \"samples\": [\n          12.94,\n          2.02,\n          9.89\n        ],\n        \"semantic_type\": \"\",\n        \"description\": \"\"\n      }\n    },\n    {\n      \"column\": \"7 Year\",\n      \"properties\": {\n        \"dtype\": \"number\",\n        \"std\": 3.378394227363565,\n        \"min\": 0.36,\n        \"max\": 16.05,\n        \"num_unique_values\": 1434,\n        \"samples\": [\n          10.05,\n          15.05,\n          4.7\n        ],\n        \"semantic_type\": \"\",\n        \"description\": \"\"\n      }\n    },\n    {\n      \"column\": \"10 Year\",\n      \"properties\": {\n        \"dtype\": \"number\",\n        \"std\": 3.2675964839445224,\n        \"min\": 0.52,\n        \"max\": 15.84,\n        \"num_unique_values\": 1394,\n        \"samples\": [\n          12.58,\n          3.54,\n          4.86\n        ],\n        \"semantic_type\": \"\",\n        \"description\": \"\"\n      }\n    },\n    {\n      \"column\": \"20 Year\",\n      \"properties\": {\n        \"dtype\": \"number\",\n        \"std\": 3.2006213902040224,\n        \"min\": 0.87,\n        \"max\": 15.78,\n        \"num_unique_values\": 1330,\n        \"samples\": [\n          5.0,\n          7.25,\n          14.75\n        ],\n        \"semantic_type\": \"\",\n        \"description\": \"\"\n      }\n    },\n    {\n      \"column\": \"30 Year\",\n      \"properties\": {\n        \"dtype\": \"number\",\n        \"std\": 3.0268428874759614,\n        \"min\": 0.99,\n        \"max\": 15.21,\n        \"num_unique_values\": 1315,\n        \"samples\": [\n          10.23,\n          2.7,\n          5.77\n        ],\n        \"semantic_type\": \"\",\n        \"description\": \"\"\n      }\n    }\n  ]\n}"
            }
          },
          "metadata": {},
          "execution_count": 9
        }
      ]
    },
    {
      "cell_type": "code",
      "execution_count": 10,
      "metadata": {
        "id": "Sldnij0QWYNQ",
        "tags": []
      },
      "outputs": [],
      "source": [
        "yields.index = pd.to_datetime(yields.index)"
      ]
    },
    {
      "cell_type": "code",
      "source": [
        "yields"
      ],
      "metadata": {
        "colab": {
          "base_uri": "https://localhost:8080/",
          "height": 423
        },
        "id": "NNsQNkuvt9Nv",
        "outputId": "735cb7c4-b9f9-4f23-a98b-5fa990f804be"
      },
      "execution_count": 11,
      "outputs": [
        {
          "output_type": "execute_result",
          "data": {
            "text/plain": [
              "            1 Month  3 Month  6 Month  1 Year  2 Year  3 Year  5 Year  7 Year  \\\n",
              "1975-01-01      NaN      NaN      NaN     NaN     NaN     NaN     NaN     NaN   \n",
              "1975-01-02      NaN      NaN      NaN    7.27     NaN    7.34    7.34    7.34   \n",
              "1975-01-03      NaN      NaN      NaN    7.19     NaN    7.33    7.36    7.36   \n",
              "1975-01-06      NaN      NaN      NaN    7.10     NaN    7.29    7.34    7.33   \n",
              "1975-01-07      NaN      NaN      NaN    7.00     NaN    7.26    7.35    7.34   \n",
              "...             ...      ...      ...     ...     ...     ...     ...     ...   \n",
              "2024-04-29     5.48     5.45     5.43    5.20    4.97    4.80    4.65    4.64   \n",
              "2024-04-30     5.48     5.46     5.44    5.25    5.04    4.87    4.72    4.71   \n",
              "2024-05-01     5.47     5.46     5.43    5.21    4.96    4.79    4.64    4.64   \n",
              "2024-05-02     5.51     5.46     5.42    5.16    4.87    4.71    4.57    4.57   \n",
              "2024-05-03     5.51     5.45     5.41    5.12    4.81    4.63    4.48    4.49   \n",
              "\n",
              "            10 Year  20 Year  30 Year  \n",
              "1975-01-01      NaN      NaN      NaN  \n",
              "1975-01-02     7.42     7.94      NaN  \n",
              "1975-01-03     7.43     7.92      NaN  \n",
              "1975-01-06     7.39     7.89      NaN  \n",
              "1975-01-07     7.38     7.89      NaN  \n",
              "...             ...      ...      ...  \n",
              "2024-04-29     4.63     4.86     4.75  \n",
              "2024-04-30     4.69     4.90     4.79  \n",
              "2024-05-01     4.63     4.85     4.74  \n",
              "2024-05-02     4.58     4.82     4.72  \n",
              "2024-05-03     4.50     4.75     4.66  \n",
              "\n",
              "[12873 rows x 11 columns]"
            ],
            "text/html": [
              "\n",
              "  <div id=\"df-594b43f6-be10-4353-8aa0-fa343a0e9982\" class=\"colab-df-container\">\n",
              "    <div>\n",
              "<style scoped>\n",
              "    .dataframe tbody tr th:only-of-type {\n",
              "        vertical-align: middle;\n",
              "    }\n",
              "\n",
              "    .dataframe tbody tr th {\n",
              "        vertical-align: top;\n",
              "    }\n",
              "\n",
              "    .dataframe thead th {\n",
              "        text-align: right;\n",
              "    }\n",
              "</style>\n",
              "<table border=\"1\" class=\"dataframe\">\n",
              "  <thead>\n",
              "    <tr style=\"text-align: right;\">\n",
              "      <th></th>\n",
              "      <th>1 Month</th>\n",
              "      <th>3 Month</th>\n",
              "      <th>6 Month</th>\n",
              "      <th>1 Year</th>\n",
              "      <th>2 Year</th>\n",
              "      <th>3 Year</th>\n",
              "      <th>5 Year</th>\n",
              "      <th>7 Year</th>\n",
              "      <th>10 Year</th>\n",
              "      <th>20 Year</th>\n",
              "      <th>30 Year</th>\n",
              "    </tr>\n",
              "  </thead>\n",
              "  <tbody>\n",
              "    <tr>\n",
              "      <th>1975-01-01</th>\n",
              "      <td>NaN</td>\n",
              "      <td>NaN</td>\n",
              "      <td>NaN</td>\n",
              "      <td>NaN</td>\n",
              "      <td>NaN</td>\n",
              "      <td>NaN</td>\n",
              "      <td>NaN</td>\n",
              "      <td>NaN</td>\n",
              "      <td>NaN</td>\n",
              "      <td>NaN</td>\n",
              "      <td>NaN</td>\n",
              "    </tr>\n",
              "    <tr>\n",
              "      <th>1975-01-02</th>\n",
              "      <td>NaN</td>\n",
              "      <td>NaN</td>\n",
              "      <td>NaN</td>\n",
              "      <td>7.27</td>\n",
              "      <td>NaN</td>\n",
              "      <td>7.34</td>\n",
              "      <td>7.34</td>\n",
              "      <td>7.34</td>\n",
              "      <td>7.42</td>\n",
              "      <td>7.94</td>\n",
              "      <td>NaN</td>\n",
              "    </tr>\n",
              "    <tr>\n",
              "      <th>1975-01-03</th>\n",
              "      <td>NaN</td>\n",
              "      <td>NaN</td>\n",
              "      <td>NaN</td>\n",
              "      <td>7.19</td>\n",
              "      <td>NaN</td>\n",
              "      <td>7.33</td>\n",
              "      <td>7.36</td>\n",
              "      <td>7.36</td>\n",
              "      <td>7.43</td>\n",
              "      <td>7.92</td>\n",
              "      <td>NaN</td>\n",
              "    </tr>\n",
              "    <tr>\n",
              "      <th>1975-01-06</th>\n",
              "      <td>NaN</td>\n",
              "      <td>NaN</td>\n",
              "      <td>NaN</td>\n",
              "      <td>7.10</td>\n",
              "      <td>NaN</td>\n",
              "      <td>7.29</td>\n",
              "      <td>7.34</td>\n",
              "      <td>7.33</td>\n",
              "      <td>7.39</td>\n",
              "      <td>7.89</td>\n",
              "      <td>NaN</td>\n",
              "    </tr>\n",
              "    <tr>\n",
              "      <th>1975-01-07</th>\n",
              "      <td>NaN</td>\n",
              "      <td>NaN</td>\n",
              "      <td>NaN</td>\n",
              "      <td>7.00</td>\n",
              "      <td>NaN</td>\n",
              "      <td>7.26</td>\n",
              "      <td>7.35</td>\n",
              "      <td>7.34</td>\n",
              "      <td>7.38</td>\n",
              "      <td>7.89</td>\n",
              "      <td>NaN</td>\n",
              "    </tr>\n",
              "    <tr>\n",
              "      <th>...</th>\n",
              "      <td>...</td>\n",
              "      <td>...</td>\n",
              "      <td>...</td>\n",
              "      <td>...</td>\n",
              "      <td>...</td>\n",
              "      <td>...</td>\n",
              "      <td>...</td>\n",
              "      <td>...</td>\n",
              "      <td>...</td>\n",
              "      <td>...</td>\n",
              "      <td>...</td>\n",
              "    </tr>\n",
              "    <tr>\n",
              "      <th>2024-04-29</th>\n",
              "      <td>5.48</td>\n",
              "      <td>5.45</td>\n",
              "      <td>5.43</td>\n",
              "      <td>5.20</td>\n",
              "      <td>4.97</td>\n",
              "      <td>4.80</td>\n",
              "      <td>4.65</td>\n",
              "      <td>4.64</td>\n",
              "      <td>4.63</td>\n",
              "      <td>4.86</td>\n",
              "      <td>4.75</td>\n",
              "    </tr>\n",
              "    <tr>\n",
              "      <th>2024-04-30</th>\n",
              "      <td>5.48</td>\n",
              "      <td>5.46</td>\n",
              "      <td>5.44</td>\n",
              "      <td>5.25</td>\n",
              "      <td>5.04</td>\n",
              "      <td>4.87</td>\n",
              "      <td>4.72</td>\n",
              "      <td>4.71</td>\n",
              "      <td>4.69</td>\n",
              "      <td>4.90</td>\n",
              "      <td>4.79</td>\n",
              "    </tr>\n",
              "    <tr>\n",
              "      <th>2024-05-01</th>\n",
              "      <td>5.47</td>\n",
              "      <td>5.46</td>\n",
              "      <td>5.43</td>\n",
              "      <td>5.21</td>\n",
              "      <td>4.96</td>\n",
              "      <td>4.79</td>\n",
              "      <td>4.64</td>\n",
              "      <td>4.64</td>\n",
              "      <td>4.63</td>\n",
              "      <td>4.85</td>\n",
              "      <td>4.74</td>\n",
              "    </tr>\n",
              "    <tr>\n",
              "      <th>2024-05-02</th>\n",
              "      <td>5.51</td>\n",
              "      <td>5.46</td>\n",
              "      <td>5.42</td>\n",
              "      <td>5.16</td>\n",
              "      <td>4.87</td>\n",
              "      <td>4.71</td>\n",
              "      <td>4.57</td>\n",
              "      <td>4.57</td>\n",
              "      <td>4.58</td>\n",
              "      <td>4.82</td>\n",
              "      <td>4.72</td>\n",
              "    </tr>\n",
              "    <tr>\n",
              "      <th>2024-05-03</th>\n",
              "      <td>5.51</td>\n",
              "      <td>5.45</td>\n",
              "      <td>5.41</td>\n",
              "      <td>5.12</td>\n",
              "      <td>4.81</td>\n",
              "      <td>4.63</td>\n",
              "      <td>4.48</td>\n",
              "      <td>4.49</td>\n",
              "      <td>4.50</td>\n",
              "      <td>4.75</td>\n",
              "      <td>4.66</td>\n",
              "    </tr>\n",
              "  </tbody>\n",
              "</table>\n",
              "<p>12873 rows × 11 columns</p>\n",
              "</div>\n",
              "    <div class=\"colab-df-buttons\">\n",
              "\n",
              "  <div class=\"colab-df-container\">\n",
              "    <button class=\"colab-df-convert\" onclick=\"convertToInteractive('df-594b43f6-be10-4353-8aa0-fa343a0e9982')\"\n",
              "            title=\"Convert this dataframe to an interactive table.\"\n",
              "            style=\"display:none;\">\n",
              "\n",
              "  <svg xmlns=\"http://www.w3.org/2000/svg\" height=\"24px\" viewBox=\"0 -960 960 960\">\n",
              "    <path d=\"M120-120v-720h720v720H120Zm60-500h600v-160H180v160Zm220 220h160v-160H400v160Zm0 220h160v-160H400v160ZM180-400h160v-160H180v160Zm440 0h160v-160H620v160ZM180-180h160v-160H180v160Zm440 0h160v-160H620v160Z\"/>\n",
              "  </svg>\n",
              "    </button>\n",
              "\n",
              "  <style>\n",
              "    .colab-df-container {\n",
              "      display:flex;\n",
              "      gap: 12px;\n",
              "    }\n",
              "\n",
              "    .colab-df-convert {\n",
              "      background-color: #E8F0FE;\n",
              "      border: none;\n",
              "      border-radius: 50%;\n",
              "      cursor: pointer;\n",
              "      display: none;\n",
              "      fill: #1967D2;\n",
              "      height: 32px;\n",
              "      padding: 0 0 0 0;\n",
              "      width: 32px;\n",
              "    }\n",
              "\n",
              "    .colab-df-convert:hover {\n",
              "      background-color: #E2EBFA;\n",
              "      box-shadow: 0px 1px 2px rgba(60, 64, 67, 0.3), 0px 1px 3px 1px rgba(60, 64, 67, 0.15);\n",
              "      fill: #174EA6;\n",
              "    }\n",
              "\n",
              "    .colab-df-buttons div {\n",
              "      margin-bottom: 4px;\n",
              "    }\n",
              "\n",
              "    [theme=dark] .colab-df-convert {\n",
              "      background-color: #3B4455;\n",
              "      fill: #D2E3FC;\n",
              "    }\n",
              "\n",
              "    [theme=dark] .colab-df-convert:hover {\n",
              "      background-color: #434B5C;\n",
              "      box-shadow: 0px 1px 3px 1px rgba(0, 0, 0, 0.15);\n",
              "      filter: drop-shadow(0px 1px 2px rgba(0, 0, 0, 0.3));\n",
              "      fill: #FFFFFF;\n",
              "    }\n",
              "  </style>\n",
              "\n",
              "    <script>\n",
              "      const buttonEl =\n",
              "        document.querySelector('#df-594b43f6-be10-4353-8aa0-fa343a0e9982 button.colab-df-convert');\n",
              "      buttonEl.style.display =\n",
              "        google.colab.kernel.accessAllowed ? 'block' : 'none';\n",
              "\n",
              "      async function convertToInteractive(key) {\n",
              "        const element = document.querySelector('#df-594b43f6-be10-4353-8aa0-fa343a0e9982');\n",
              "        const dataTable =\n",
              "          await google.colab.kernel.invokeFunction('convertToInteractive',\n",
              "                                                    [key], {});\n",
              "        if (!dataTable) return;\n",
              "\n",
              "        const docLinkHtml = 'Like what you see? Visit the ' +\n",
              "          '<a target=\"_blank\" href=https://colab.research.google.com/notebooks/data_table.ipynb>data table notebook</a>'\n",
              "          + ' to learn more about interactive tables.';\n",
              "        element.innerHTML = '';\n",
              "        dataTable['output_type'] = 'display_data';\n",
              "        await google.colab.output.renderOutput(dataTable, element);\n",
              "        const docLink = document.createElement('div');\n",
              "        docLink.innerHTML = docLinkHtml;\n",
              "        element.appendChild(docLink);\n",
              "      }\n",
              "    </script>\n",
              "  </div>\n",
              "\n",
              "\n",
              "    <div id=\"df-01aec946-a763-4c43-a3f6-d39460f8de31\">\n",
              "      <button class=\"colab-df-quickchart\" onclick=\"quickchart('df-01aec946-a763-4c43-a3f6-d39460f8de31')\"\n",
              "                title=\"Suggest charts\"\n",
              "                style=\"display:none;\">\n",
              "\n",
              "<svg xmlns=\"http://www.w3.org/2000/svg\" height=\"24px\"viewBox=\"0 0 24 24\"\n",
              "     width=\"24px\">\n",
              "    <g>\n",
              "        <path d=\"M19 3H5c-1.1 0-2 .9-2 2v14c0 1.1.9 2 2 2h14c1.1 0 2-.9 2-2V5c0-1.1-.9-2-2-2zM9 17H7v-7h2v7zm4 0h-2V7h2v10zm4 0h-2v-4h2v4z\"/>\n",
              "    </g>\n",
              "</svg>\n",
              "      </button>\n",
              "\n",
              "<style>\n",
              "  .colab-df-quickchart {\n",
              "      --bg-color: #E8F0FE;\n",
              "      --fill-color: #1967D2;\n",
              "      --hover-bg-color: #E2EBFA;\n",
              "      --hover-fill-color: #174EA6;\n",
              "      --disabled-fill-color: #AAA;\n",
              "      --disabled-bg-color: #DDD;\n",
              "  }\n",
              "\n",
              "  [theme=dark] .colab-df-quickchart {\n",
              "      --bg-color: #3B4455;\n",
              "      --fill-color: #D2E3FC;\n",
              "      --hover-bg-color: #434B5C;\n",
              "      --hover-fill-color: #FFFFFF;\n",
              "      --disabled-bg-color: #3B4455;\n",
              "      --disabled-fill-color: #666;\n",
              "  }\n",
              "\n",
              "  .colab-df-quickchart {\n",
              "    background-color: var(--bg-color);\n",
              "    border: none;\n",
              "    border-radius: 50%;\n",
              "    cursor: pointer;\n",
              "    display: none;\n",
              "    fill: var(--fill-color);\n",
              "    height: 32px;\n",
              "    padding: 0;\n",
              "    width: 32px;\n",
              "  }\n",
              "\n",
              "  .colab-df-quickchart:hover {\n",
              "    background-color: var(--hover-bg-color);\n",
              "    box-shadow: 0 1px 2px rgba(60, 64, 67, 0.3), 0 1px 3px 1px rgba(60, 64, 67, 0.15);\n",
              "    fill: var(--button-hover-fill-color);\n",
              "  }\n",
              "\n",
              "  .colab-df-quickchart-complete:disabled,\n",
              "  .colab-df-quickchart-complete:disabled:hover {\n",
              "    background-color: var(--disabled-bg-color);\n",
              "    fill: var(--disabled-fill-color);\n",
              "    box-shadow: none;\n",
              "  }\n",
              "\n",
              "  .colab-df-spinner {\n",
              "    border: 2px solid var(--fill-color);\n",
              "    border-color: transparent;\n",
              "    border-bottom-color: var(--fill-color);\n",
              "    animation:\n",
              "      spin 1s steps(1) infinite;\n",
              "  }\n",
              "\n",
              "  @keyframes spin {\n",
              "    0% {\n",
              "      border-color: transparent;\n",
              "      border-bottom-color: var(--fill-color);\n",
              "      border-left-color: var(--fill-color);\n",
              "    }\n",
              "    20% {\n",
              "      border-color: transparent;\n",
              "      border-left-color: var(--fill-color);\n",
              "      border-top-color: var(--fill-color);\n",
              "    }\n",
              "    30% {\n",
              "      border-color: transparent;\n",
              "      border-left-color: var(--fill-color);\n",
              "      border-top-color: var(--fill-color);\n",
              "      border-right-color: var(--fill-color);\n",
              "    }\n",
              "    40% {\n",
              "      border-color: transparent;\n",
              "      border-right-color: var(--fill-color);\n",
              "      border-top-color: var(--fill-color);\n",
              "    }\n",
              "    60% {\n",
              "      border-color: transparent;\n",
              "      border-right-color: var(--fill-color);\n",
              "    }\n",
              "    80% {\n",
              "      border-color: transparent;\n",
              "      border-right-color: var(--fill-color);\n",
              "      border-bottom-color: var(--fill-color);\n",
              "    }\n",
              "    90% {\n",
              "      border-color: transparent;\n",
              "      border-bottom-color: var(--fill-color);\n",
              "    }\n",
              "  }\n",
              "</style>\n",
              "\n",
              "      <script>\n",
              "        async function quickchart(key) {\n",
              "          const quickchartButtonEl =\n",
              "            document.querySelector('#' + key + ' button');\n",
              "          quickchartButtonEl.disabled = true;  // To prevent multiple clicks.\n",
              "          quickchartButtonEl.classList.add('colab-df-spinner');\n",
              "          try {\n",
              "            const charts = await google.colab.kernel.invokeFunction(\n",
              "                'suggestCharts', [key], {});\n",
              "          } catch (error) {\n",
              "            console.error('Error during call to suggestCharts:', error);\n",
              "          }\n",
              "          quickchartButtonEl.classList.remove('colab-df-spinner');\n",
              "          quickchartButtonEl.classList.add('colab-df-quickchart-complete');\n",
              "        }\n",
              "        (() => {\n",
              "          let quickchartButtonEl =\n",
              "            document.querySelector('#df-01aec946-a763-4c43-a3f6-d39460f8de31 button');\n",
              "          quickchartButtonEl.style.display =\n",
              "            google.colab.kernel.accessAllowed ? 'block' : 'none';\n",
              "        })();\n",
              "      </script>\n",
              "    </div>\n",
              "\n",
              "  <div id=\"id_b6eaaa4e-569b-4484-aca0-16e3168e373f\">\n",
              "    <style>\n",
              "      .colab-df-generate {\n",
              "        background-color: #E8F0FE;\n",
              "        border: none;\n",
              "        border-radius: 50%;\n",
              "        cursor: pointer;\n",
              "        display: none;\n",
              "        fill: #1967D2;\n",
              "        height: 32px;\n",
              "        padding: 0 0 0 0;\n",
              "        width: 32px;\n",
              "      }\n",
              "\n",
              "      .colab-df-generate:hover {\n",
              "        background-color: #E2EBFA;\n",
              "        box-shadow: 0px 1px 2px rgba(60, 64, 67, 0.3), 0px 1px 3px 1px rgba(60, 64, 67, 0.15);\n",
              "        fill: #174EA6;\n",
              "      }\n",
              "\n",
              "      [theme=dark] .colab-df-generate {\n",
              "        background-color: #3B4455;\n",
              "        fill: #D2E3FC;\n",
              "      }\n",
              "\n",
              "      [theme=dark] .colab-df-generate:hover {\n",
              "        background-color: #434B5C;\n",
              "        box-shadow: 0px 1px 3px 1px rgba(0, 0, 0, 0.15);\n",
              "        filter: drop-shadow(0px 1px 2px rgba(0, 0, 0, 0.3));\n",
              "        fill: #FFFFFF;\n",
              "      }\n",
              "    </style>\n",
              "    <button class=\"colab-df-generate\" onclick=\"generateWithVariable('yields')\"\n",
              "            title=\"Generate code using this dataframe.\"\n",
              "            style=\"display:none;\">\n",
              "\n",
              "  <svg xmlns=\"http://www.w3.org/2000/svg\" height=\"24px\"viewBox=\"0 0 24 24\"\n",
              "       width=\"24px\">\n",
              "    <path d=\"M7,19H8.4L18.45,9,17,7.55,7,17.6ZM5,21V16.75L18.45,3.32a2,2,0,0,1,2.83,0l1.4,1.43a1.91,1.91,0,0,1,.58,1.4,1.91,1.91,0,0,1-.58,1.4L9.25,21ZM18.45,9,17,7.55Zm-12,3A5.31,5.31,0,0,0,4.9,8.1,5.31,5.31,0,0,0,1,6.5,5.31,5.31,0,0,0,4.9,4.9,5.31,5.31,0,0,0,6.5,1,5.31,5.31,0,0,0,8.1,4.9,5.31,5.31,0,0,0,12,6.5,5.46,5.46,0,0,0,6.5,12Z\"/>\n",
              "  </svg>\n",
              "    </button>\n",
              "    <script>\n",
              "      (() => {\n",
              "      const buttonEl =\n",
              "        document.querySelector('#id_b6eaaa4e-569b-4484-aca0-16e3168e373f button.colab-df-generate');\n",
              "      buttonEl.style.display =\n",
              "        google.colab.kernel.accessAllowed ? 'block' : 'none';\n",
              "\n",
              "      buttonEl.onclick = () => {\n",
              "        google.colab.notebook.generateWithVariable('yields');\n",
              "      }\n",
              "      })();\n",
              "    </script>\n",
              "  </div>\n",
              "\n",
              "    </div>\n",
              "  </div>\n"
            ],
            "application/vnd.google.colaboratory.intrinsic+json": {
              "type": "dataframe",
              "variable_name": "yields",
              "summary": "{\n  \"name\": \"yields\",\n  \"rows\": 12873,\n  \"fields\": [\n    {\n      \"column\": \"1 Month\",\n      \"properties\": {\n        \"dtype\": \"number\",\n        \"std\": 1.7058509538091577,\n        \"min\": 0.0,\n        \"max\": 6.02,\n        \"num_unique_values\": 539,\n        \"samples\": [\n          0.65,\n          1.82,\n          5.22\n        ],\n        \"semantic_type\": \"\",\n        \"description\": \"\"\n      }\n    },\n    {\n      \"column\": \"3 Month\",\n      \"properties\": {\n        \"dtype\": \"number\",\n        \"std\": 3.1896456758180434,\n        \"min\": 0.0,\n        \"max\": 17.01,\n        \"num_unique_values\": 1214,\n        \"samples\": [\n          3.84,\n          3.24,\n          11.74\n        ],\n        \"semantic_type\": \"\",\n        \"description\": \"\"\n      }\n    },\n    {\n      \"column\": \"6 Month\",\n      \"properties\": {\n        \"dtype\": \"number\",\n        \"std\": 3.295823784835611,\n        \"min\": 0.02,\n        \"max\": 17.43,\n        \"num_unique_values\": 1256,\n        \"samples\": [\n          10.22,\n          15.28,\n          11.42\n        ],\n        \"semantic_type\": \"\",\n        \"description\": \"\"\n      }\n    },\n    {\n      \"column\": \"1 Year\",\n      \"properties\": {\n        \"dtype\": \"number\",\n        \"std\": 3.721874859189831,\n        \"min\": 0.04,\n        \"max\": 17.31,\n        \"num_unique_values\": 1494,\n        \"samples\": [\n          9.44,\n          10.65,\n          0.98\n        ],\n        \"semantic_type\": \"\",\n        \"description\": \"\"\n      }\n    },\n    {\n      \"column\": \"2 Year\",\n      \"properties\": {\n        \"dtype\": \"number\",\n        \"std\": 3.7338404503876594,\n        \"min\": 0.09,\n        \"max\": 16.95,\n        \"num_unique_values\": 1490,\n        \"samples\": [\n          5.65,\n          9.0,\n          9.76\n        ],\n        \"semantic_type\": \"\",\n        \"description\": \"\"\n      }\n    },\n    {\n      \"column\": \"3 Year\",\n      \"properties\": {\n        \"dtype\": \"number\",\n        \"std\": 3.6210929821813704,\n        \"min\": 0.1,\n        \"max\": 16.59,\n        \"num_unique_values\": 1473,\n        \"samples\": [\n          10.28,\n          6.32,\n          1.67\n        ],\n        \"semantic_type\": \"\",\n        \"description\": \"\"\n      }\n    },\n    {\n      \"column\": \"5 Year\",\n      \"properties\": {\n        \"dtype\": \"number\",\n        \"std\": 3.4853733966291345,\n        \"min\": 0.19,\n        \"max\": 16.27,\n        \"num_unique_values\": 1456,\n        \"samples\": [\n          12.94,\n          2.02,\n          9.89\n        ],\n        \"semantic_type\": \"\",\n        \"description\": \"\"\n      }\n    },\n    {\n      \"column\": \"7 Year\",\n      \"properties\": {\n        \"dtype\": \"number\",\n        \"std\": 3.378394227363565,\n        \"min\": 0.36,\n        \"max\": 16.05,\n        \"num_unique_values\": 1434,\n        \"samples\": [\n          10.05,\n          15.05,\n          4.7\n        ],\n        \"semantic_type\": \"\",\n        \"description\": \"\"\n      }\n    },\n    {\n      \"column\": \"10 Year\",\n      \"properties\": {\n        \"dtype\": \"number\",\n        \"std\": 3.2675964839445224,\n        \"min\": 0.52,\n        \"max\": 15.84,\n        \"num_unique_values\": 1394,\n        \"samples\": [\n          12.58,\n          3.54,\n          4.86\n        ],\n        \"semantic_type\": \"\",\n        \"description\": \"\"\n      }\n    },\n    {\n      \"column\": \"20 Year\",\n      \"properties\": {\n        \"dtype\": \"number\",\n        \"std\": 3.2006213902040224,\n        \"min\": 0.87,\n        \"max\": 15.78,\n        \"num_unique_values\": 1330,\n        \"samples\": [\n          5.0,\n          7.25,\n          14.75\n        ],\n        \"semantic_type\": \"\",\n        \"description\": \"\"\n      }\n    },\n    {\n      \"column\": \"30 Year\",\n      \"properties\": {\n        \"dtype\": \"number\",\n        \"std\": 3.0268428874759614,\n        \"min\": 0.99,\n        \"max\": 15.21,\n        \"num_unique_values\": 1315,\n        \"samples\": [\n          10.23,\n          2.7,\n          5.77\n        ],\n        \"semantic_type\": \"\",\n        \"description\": \"\"\n      }\n    }\n  ]\n}"
            }
          },
          "metadata": {},
          "execution_count": 11
        }
      ]
    },
    {
      "cell_type": "markdown",
      "metadata": {
        "id": "G165x0kWiOG9"
      },
      "source": [
        "Now let's calculate the standard deviations of Treasury yields of different maturities. Then, we'll draw a graph to present the standard deviations by maturity."
      ]
    },
    {
      "cell_type": "code",
      "execution_count": 12,
      "metadata": {
        "colab": {
          "base_uri": "https://localhost:8080/",
          "height": 429
        },
        "id": "QQSbxuZhj5S9",
        "outputId": "ecb99e5a-1715-4463-f0a1-ae517d67a2c7",
        "tags": []
      },
      "outputs": [
        {
          "output_type": "execute_result",
          "data": {
            "text/plain": [
              "1 Month    1.705851\n",
              "3 Month    1.733347\n",
              "6 Month    1.746829\n",
              "1 Year     1.684091\n",
              "2 Year     1.545413\n",
              "3 Year     1.446639\n",
              "5 Year     1.309345\n",
              "7 Year     1.226457\n",
              "10 Year    1.174092\n",
              "20 Year    1.206514\n",
              "30 Year    1.108774\n",
              "dtype: float64"
            ],
            "text/html": [
              "<div>\n",
              "<style scoped>\n",
              "    .dataframe tbody tr th:only-of-type {\n",
              "        vertical-align: middle;\n",
              "    }\n",
              "\n",
              "    .dataframe tbody tr th {\n",
              "        vertical-align: top;\n",
              "    }\n",
              "\n",
              "    .dataframe thead th {\n",
              "        text-align: right;\n",
              "    }\n",
              "</style>\n",
              "<table border=\"1\" class=\"dataframe\">\n",
              "  <thead>\n",
              "    <tr style=\"text-align: right;\">\n",
              "      <th></th>\n",
              "      <th>0</th>\n",
              "    </tr>\n",
              "  </thead>\n",
              "  <tbody>\n",
              "    <tr>\n",
              "      <th>1 Month</th>\n",
              "      <td>1.705851</td>\n",
              "    </tr>\n",
              "    <tr>\n",
              "      <th>3 Month</th>\n",
              "      <td>1.733347</td>\n",
              "    </tr>\n",
              "    <tr>\n",
              "      <th>6 Month</th>\n",
              "      <td>1.746829</td>\n",
              "    </tr>\n",
              "    <tr>\n",
              "      <th>1 Year</th>\n",
              "      <td>1.684091</td>\n",
              "    </tr>\n",
              "    <tr>\n",
              "      <th>2 Year</th>\n",
              "      <td>1.545413</td>\n",
              "    </tr>\n",
              "    <tr>\n",
              "      <th>3 Year</th>\n",
              "      <td>1.446639</td>\n",
              "    </tr>\n",
              "    <tr>\n",
              "      <th>5 Year</th>\n",
              "      <td>1.309345</td>\n",
              "    </tr>\n",
              "    <tr>\n",
              "      <th>7 Year</th>\n",
              "      <td>1.226457</td>\n",
              "    </tr>\n",
              "    <tr>\n",
              "      <th>10 Year</th>\n",
              "      <td>1.174092</td>\n",
              "    </tr>\n",
              "    <tr>\n",
              "      <th>20 Year</th>\n",
              "      <td>1.206514</td>\n",
              "    </tr>\n",
              "    <tr>\n",
              "      <th>30 Year</th>\n",
              "      <td>1.108774</td>\n",
              "    </tr>\n",
              "  </tbody>\n",
              "</table>\n",
              "</div><br><label><b>dtype:</b> float64</label>"
            ]
          },
          "metadata": {},
          "execution_count": 12
        }
      ],
      "source": [
        "yields = yields.dropna()\n",
        "y_std = yields.std()\n",
        "y_std"
      ]
    },
    {
      "cell_type": "code",
      "execution_count": 13,
      "metadata": {
        "colab": {
          "base_uri": "https://localhost:8080/",
          "height": 496
        },
        "id": "qVv1U3rWidaM",
        "outputId": "3481dc08-5311-45b5-c25d-b2af30b9d521",
        "tags": []
      },
      "outputs": [
        {
          "output_type": "display_data",
          "data": {
            "text/plain": [
              "<Figure size 800x500 with 1 Axes>"
            ],
            "image/png": "[encoded data removed]"
          },
          "metadata": {}
        }
      ],
      "source": [
        "fig, ax = plt.subplots()\n",
        "y_std.plot(figsize = (8,5),marker='o', title='Figure 0, Standard Deviations of Treasury Yields for Different Maturities', alpha=0.8) # Plot standard deviations of yields of different maturies\n",
        "plt.xlabel(\"Maturity\")\n",
        "plt.ylabel(\"Standard Deviation\")\n",
        "for i in range(len(y_std)):\n",
        "    ax.annotate(str(round(y_std.iloc[i],2)),xy=(i,y_std.iloc[i]))\n",
        "plt.show()"
      ]
    },
    {
      "cell_type": "markdown",
      "metadata": {
        "id": "ZTf_ijZyjL9I"
      },
      "source": [
        "From the above graph, we see that the standard deviations of U.S. Treasury bonds with short maturities are higher than the U.S. Treasury bonds with longer maturities. The standard deviations for Treasury bonds with maturities of less than one year stay high above 1.7. Then, the standard deviations of Treasury bonds with maturities over one year decrease steadily.\n",
        "<br>\n",
        "<br>\n",
        "## **3. Treasury Bond Price-Yield Curve**\n",
        "According to the bond price mathematical formula, the relationship between bond price and bond yield is non-linear. This relationship is best explained with a bond price-yield curve. Let's use the following figure to demonstrate the relationship.\n",
        "<br>\n",
        "<br>\n",
        "**Figure 1: Bond Price-Yield Curve**\n",
        "![FD_M1_L3_Fig1_Price_yield_curve.jpg](data:image/jpeg;base64,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)\n",
        "\n",
        "\n",
        "[Graph showing price vs. yield with a line intersecting a curve at a marked point]\n",
        "<br>\n",
        "<br>\n",
        "In Figure 1, we can see that when the yield/interest of a bond increases, the price of the bond will decrease. Conversely, when the yield/interest of a bond decreases, the price of the bond will increase. There is a negative relationship between the bond price and bond yields. However, when yield changes by one unit, the price change varies depending on where the yield level is when yield change happens.\n",
        "<br>\n",
        "This is another key point to pay attention to in the bond price-yield relationship: the bond price and bond yield do not have a linear relationship; they have a convex relationship. This non-linear relationship between bond price and bond yield has an important implication in interest rate risk management for bond investment. Let's use the following Figure 2 to explain the concept.\n",
        "<br>\n",
        "<br>\n",
        "**Figure 2: Non-Linear Relationship between Bond Price and Bond Yield**\n",
        "\n",
        "![Graph showing price vs. yield with two rectangles (D1, D2) illustrating changes in price (P1, P2) along a downward-sloping curve]\n",
        "\n",
        "![FD_M1_L3_Fig2_Price_Yield_Curve_Change.jpg](data:image/jpeg;base64,/9j/4AAQSkZJRgABAQEAYABgAAD/2wBDAAIBAQIBAQICAgICAgICAwUDAwMDAwYEBAMFBwYHBwcGBwcICQsJCAgKCAcHCg0KCgsMDAwMBwkODw0MDgsMDAz/2wBDAQICAgMDAwYDAwYMCAcIDAwMDAwMDAwMDAwMDAwMDAwMDAwMDAwMDAwMDAwMDAwMDAwMDAwMDAwMDAwMDAwMDAz/wAARCAHrAkcDASIAAhEBAxEB/8QAHwAAAQUBAQEBAQEAAAAAAAAAAAECAwQFBgcICQoL/8QAtRAAAgEDAwIEAwUFBAQAAAF9AQIDAAQRBRIhMUEGE1FhByJxFDKBkaEII0KxwRVS0fAkM2JyggkKFhcYGRolJicoKSo0NTY3ODk6Q0RFRkdISUpTVFVWV1hZWmNkZWZnaGlqc3R1dnd4eXqDhIWGh4iJipKTlJWWl5iZmqKjpKWmp6ipqrKztLW2t7i5usLDxMXGx8jJytLT1NXW19jZ2uHi4+Tl5ufo6erx8vP09fb3+Pn6/8QAHwEAAwEBAQEBAQEBAQAAAAAAAAECAwQFBgcICQoL/8QAtREAAgECBAQDBAcFBAQAAQJ3AAECAxEEBSExBhJBUQdhcRMiMoEIFEKRobHBCSMzUvAVYnLRChYkNOEl8RcYGRomJygpKjU2Nzg5OkNERUZHSElKU1RVVldYWVpjZGVmZ2hpanN0dXZ3eHl6goOEhYaHiImKkpOUlZaXmJmaoqOkpaanqKmqsrO0tba3uLm6wsPExcbHyMnK0tPU1dbX2Nna4uPk5ebn6Onq8vP09fb3+Pn6/9oADAMBAAIRAxEAPwD9/KKKKACiiigAooooAKKKKACiiigAoor8+v27P+CvkP7Mf/BRH4e+Ara6i/4RHRyF8cuADsN4oWIZ6j7OhSc4+8JNvUV14PBVcVN06Ku0m/u/q3qcOYZlQwVNVcQ7JtL7/wDLd+SP0FopsMy3ESujK6OAyspyGB6EGnVyHcFFFFABRRRQAUUUUAFFFFABRRRQAUUUUAFFFFABRRRQAUUUUAFFFFABRRRQAUUUUAFFFFABRRRQAUUUUAFFFFABRRRQAUUUUAFFFFABRRRQAUUUUAFFFFABRRRQAUUUUAFFFFABRRRQAUUUUAFFFFABRRRQAUUUUAFFFFABRRRQAUUUUAFFFFABRRRQAV8M/tmfs3/DvVf+CoP7MUV14C8F3MXjKXxfP4gSXRLZ11ySLTIpInugU/fsjkspk3FWJIwa+5q+Tf2vf+UpP7H3/c6f+miKvRyuco1nyu3uz/8ASJHkZ1ThOhHmV/fp/wDpyJ9VaVpVroWl21jY20FnZWcSwW9vBGI4oI1AVURRgKoAAAHAAqxRRXnHr7aIKKKKACiiigAooooAKKKKACiiigAooooAKKKKACiiigAooooAKKKKACiiigAooooAKKKKACiiigAooooAKKKKACiiigAooooAKKKKACiiigAooooAKKKKACiiigAooooAKKKKACiiigAooooAKKKKACiiigAooooAKKKKACiiigAooooAKKKKACiiigAr5N/a9/5Sk/sff9zp/wCmiKvrKvk39r3/AJSk/sff9zp/6aIq78u/iv8Awz/9IkeXm/8AAj/jpf8ApyB9ZUUUVwHqBRRRQAUV4/8Ast/th6T+1J4x+K+iWGkalo978JvGFx4RvlvGQm9aKKORbmPaTiN952g84XJxnA9gptNOzJjJSV4hRRRSKCiiigAooooAKKKKACiiigAooooAKKKKACiiigAooooAKKKKACiiigAooooAKKKKACiiigAooooAKKKKACiiigAooooAKKKKACiiigAooooAKKKKACiiigAooooAKKKKACiiigAooooAKKKKACiiigAooooAKKKKACiiigAooooAK+Tf2vf+UpP7H3/c6f8Apoir6yr5N/a9/wCUpP7H3/c6f+miKu/Lv4r/AMM//SJHl5v/AAI/46X/AKcgfWVFFFcB6gUUUUAfD37C3/Fvf+CwP7ZnhMnZba6PCvi6wj6Z83T5Ibpv+/qLX3DXw/fD/hXH/Bw7YS/ctPiT8EJLcjp5t7YauH3e+IHxX3BW1fdPyX+Rz4bROPZv87/qFFFFYnQFFFFABRRRQAUUUUAFFFFABRRRQAUUUUAFFFFABRRRQAUUUUAFFFFABRRRQAUUUUAFFFFABRRRQAUUUUAFFFFABRRRQAUUUUAFFFFABRRRQAUUUUAFFFFABRRRQAUUUUAFFFFABRRRQAUUUUAFFFFABRRRQAUUUUAFFFFABRRRQAV8m/te/wDKUn9j7/udP/TRFX1lXyb+17/ylJ/Y+/7nT/00RV35d/Ff+Gf/AKRI8vN/4Ef8dL/05A+sqKKK4D1AooooA+Hv+ChJ/wCFdf8ABVP9irxtxHbXeq+I/B16/TzTfacptkJ9pY2IHua+4a+Hv+C8B/4Q74B/CH4if6sfCr4weGPEk8v92AXLW8gJ/un7QoP4V9w1tU1pxfqvx/4Jz0tKs16P8LfoFFFFYnQFFFFABRRRQAUUUUAFFFFABRRRQAUUUUAFFFFABRRRQAUUUUAFFFFABRRRQAUUUUAFFFFABRRRQAUUUUAFFFFABRRRQAUUUUAFFFFABRRRQAUUUUAFFFFABRRRQAUUUUAFFFFABRRRQAUUUUAFFFFABRRRQAUUUUAFFFFABRRRQAV8m/te/wDKUn9j7/udP/TRFX1lXyb+17/ylJ/Y+/7nT/00RV35d/Ff+Gf/AKRI8vN/4Ef8dL/05A+sqKKK4D1AooooA+Uv+C4/w4PxT/4JMfHPTlQu1n4cbWhjqpsJor7d+H2fP4V7z+zj8SB8Y/2efAfi4MHHirw7p+sBh/F9oto5s/8Aj9W/jj8N4fjJ8FfGHhC42+R4q0S90eXcMrtuIHhOfbD183/8EIviJP8AEn/gk18Gp7vet7oulTeH7iJz88DWF1NZBGHYhIF49CK23o+j/Nf8A59q/qvyf/BPrmiiisToCiiigAooooAKKKKACiiigAooooAKKKKACiiigAooooAKKKKACiiigAooooAKKKKACiiigAooooAKKKKACiiigAooooAKKKKACiiigAooooAKKKKACiiigAooooAKKKKACiiigAooooAKKKKACiiigAooooAKKKKACiiigAooooAK+Tf2vf8AlKT+x9/3On/poir6yr5N/a9/5Sk/sff9zp/6aIq78u/iv/DP/wBIkeXm/wDAj/jpf+nIH1lRRRXAeoFFFFABXw7/AMESlPw+tP2kfhi/yf8ACvPjNrsdhF/c0678q6tjj33yGvuKvhz9lY/8Kj/4Lj/tPeE3/dQ/Evwp4a8eWEJ6bbZH024kX/elK59xW1PWEl8/xOetpUhLzt96/wCAfcdFFFYnQFFFFABRRRQAUUUUAFFFFABRRRQAUUUUAFFFFABRRRQAUUUUAFFFFABRRRQAUUUUAFFFFABRRRQAUUUUAFFFFABRRRQAUUUUAFFFFABRRRQAUUUUAFFFFABRRRQAUUUUAFFFFABRRRQAUUUUAFFFFABRRRQAUUUUAFFFFABRRRQAV8m/te/8pSf2Pv8AudP/AE0RV9ZV8m/te/8AKUn9j7/udP8A00RV35d/Ff8Ahn/6RI8vN/4Ef8dL/wBOQPrKiiiuA9QKKKKACvhr9r8/8KX/AOC1v7LXjgHyrT4iaD4h+HepzYxjZGt/Zxk990+4Aeor7lr4b/4L2q3gH9mb4c/FqIMr/BH4n+HfFtxKnVbUXX2WZD/sN9pTI9hW2H+Pl76fec+K0p83az+5n3JRSK4dQQQQRkEd6WsToCiiigAooooAKKKKACiiigAooooAKKKKACiiigAooooAKKKKACiiigAooooAKKKKACiiigAooooAKKKKACiiigAooooAKKKKACiiigAooooAKKKKACiiigAooooAKKKKACiiigAooooAKKKKACiiigAooooAKKKKACiiigAooooAK+Tf2vf+UpP7H3/c6f8Apoir6yr5N/a9/wCUpP7H3/c6f+miKu/Lv4r/AMM//SJHl5v/AAI/46X/AKcgfWVFFFcB6gUUUUAFeIf8FKPgK/7T37Avxd8CwxGa917wveLYIBndeRxma24/67Rx17fRTjJxakiZxUouL6ngv/BLn4+L+07/AME8Pg94280TXOq+GLSG+cHO68t1+zXP/keGWveq+Fv+CJBHwiH7Q3wLceSfg/8AFDUf7Lts/wCo0bUf9MseO27Mx9K+6a0rJKbS2M8NJypRb3/VbhRRRWRsFFFFABRRRQAUUUUAFFFFABRRRQAUUUUAFFFFABRRRQAUUUUAFFFFABRRRQAUUUUAFFFFABRRRQAUUUUAFFFFABRRRQAUUUUAFFFFABRRRQAUUUUAFFFFABRRRQAUUUUAFFFFABRRRQAUUUUAFFFFABRRRQAUUUUAFFFFABXyb+17/wApSf2Pv+50/wDTRFX1lXyb+17/AMpSf2Pv+50/9NEVd+XfxX/hn/6RI8vN/wCBH/HS/wDTkD6yooorgPUCiiigAooooA+FI3H7N3/BwNKrf6Po37SPw1VlJG0XetaLLjaOzbbBs+oz6V9118Lf8F2dMuPhZ8Ivhf8AtB6ZDLJqf7PPjrT9fu/KGZJtIuZVtL+AY5xIskOcfwoc+33DpWqW+uaXbXtnNHcWl5Es8EsZysqMAysD3BBBrerrGM/l93/Asc1H3Zzh53+//g3LFFFFYHSFFFFABRRRQAUUUUAFFFFABRRRQAUUUUAFFFFABRRRQAUUUUAFFFFABRRRQAUUUUAFFFFABRRRQAUUUUAFFFFABRRRQAUUUUAFFFFABRRRQAUUUUAFFFFABRRRQAUUUUAFFFFABRRRQAUUUUAFFFFABRRRQAUUUUAFFFFABXyb+17/AMpSf2Pv+50/9NEVfWVfJv7Xv/KUn9j7/udP/TRFXfl38V/4Z/8ApEjy83/gR/x0v/TkD6yooorgPUCiiigAooooA4f9pj4I2H7S37O/jj4fantFj400O80aR2GfJ8+FoxIPdCwYehUV8/f8EOfjfqHxl/4JweCrDXt6eLfhs9x4D8QQSNuktrvTJDbqjnuxgEDHPOXPXrX1zXwb+zy3/DEv/BZv4m/DOQm28G/tJab/AMLG8MqeIk1y3Hlatbp6ySoBct6Ki81vD3oSj8/8/wCvI5qvu1Iz+X37fj+Z95UUUVgdIUUUUAFFFFABRRRQAUUUUAFFFFABRRRQAUUUUAFFFFABRRRQAUUUUAFFFFABRRRQAUUUUAFFFFABRRRQAUUUUAFFFFABRRRQAUUUUAFFFFABRRRQAUUUUAFFFFABRRRQAUUUUAFFFFABRRRQAUV8PfFL/g5B/Yv+C3xK8QeEPEvxl/s3xF4W1G40nVLT/hEtdm+y3MEjRyx747Jkba6sMqxU44JFfR/7JX7a/wAKv27Phn/wl/wk8b6N430BJfImmsmdJbOXAby54JFWWF9pB2yIpwQcYNEPfh7SGq7rbXYJ+5Lkno+3U9Soor55/Yi/4KV+Bv29viD8WfDXhHRPHOkah8G9fPh3Wm1/SBZQ3U+6VQ9syyPvQ+Uxw+yQKyEoAwyk05ci3s38k0m/va+8HpHme17fN3t+TPoaiiimAUUUUAFfJv7Xv/KUn9j7/udP/TRFX1lXyb+17/ylJ/Y+/wC50/8ATRFXfl38V/4Z/wDpEjy83/gR/wAdL/05A+sqKKK4D1AooooAKKKKAPHf2/P2m7v9jn9kTxj8R7DTLfWL7w7Fbi3tLiQpFJJPdQ2ylyvO1TMGIGCQuMjOR8Lf8FPvgV+0/pXwY0/4/eJ/E/w6ufE3wAnbxXpOm+EtJnWS0Rtsd5tnuCTJEsGXeORSrrEQegr6Z/4Lkf8AKLb4of8AcK/9O9lX1J4m8N2HjLw3qGkapaxX2marbSWd5bSjMdxDIpR0Ydwykg/WvVo1VQw0KsYptykndJ6JR019WeHiaDxWLqUJzkoxhBpJtatz101fwo/Pf/gkn/wWjvf2uviC/wAO/iVFpGm+KJrWN9Ev7VDCmsvHGPPjkUnaJmIaVQgVSu5cAqN36LV+BH/BPn9n3Sf2x/2UfGfhrwVdvpP7Qnwm1tfHPh6eKQQzalZTRQw/Z0fIOVmsiyt0jkki5AlY1+rf/BLf9vuD9uL4GH+1wmnfEbwiy6f4o0xk8p0mGVW4VDyqSbWyMfI6uvYE/nPDWcYmrCFLMX71Rc8Jbcy6rtePZdPQ/rLxz8NskwOJxOY8IR5aGEmqGIpXcnSmklCpdtydOqvtPaomm3dH05RRRX2J/NIUUUUAFFFFABRRRQAUUUUAFFFFABRRRQAUUUUAFFFFABRRRQAUUUUAFFFFABRRRQAUUUUAFFFFABRRRQAUUUUAFFFFABRRRQAUUUUAFFFFABRRRQAUUUUAFFFFABRRRQAUUUUAFFFFAH8zP7Gn/BQf9nD9gz/gp/8AttS/tDeEh4tsvFPje+h0e2Phm31vDRalqBmG2YhU3CSMdfm79K+n/wDg24+Heu6l+0z+1l+0H4G+Hus/Cf4DeOrWU+CtLvbNbWKd1mknheCLmMpCm4fu90KGcxozBDj6Q/4Il/8ABPX4wfsi/wDBQ79sfxz8Q/CP/CP+Fvir4nOo+Fr3+1bK7/tSD7fqE2/y4Jnki+SeI4lVD82MZBA/SDx9pk+t+BNas7ZPMubuwnhiTIG92jYKMngckda5bTo4CFSF3UVDlVtLXjqmlq5Lp1T6HTU5KuPqQl8DrKTfezTVnty9976/L8fP+CBf7X37dP8AwU78JeGPH/iX4oeBI/hb4Q8WT2XiWS40S0TXvFqrFG7WiJBarBbwRrLGQ67JWfdliuANL9iL/gtl8T/D3gr/AIKBeO/itrh8daL+zt4jltfCWkjT7TTxCn2y/t4LUy20Cuys8duhkl3soBOeufeP+DZr9hb4qf8ABPn/AIJ+ax4I+L3hb/hEfFF14xvdVisv7StL/dbSW9qiSeZayyxjLRuMFt3y8jkV4P8AsRf8ETfif4h8Ff8ABQLwJ8VtDPgXRf2ifEct14S1YahaagJk+2X9xBdGK2nZ1VXkt3McuxmBIx1x25h7vtIUP+fLa/xv2Oz/AJl71l097+8cWC15J1v+fqT3+BOp+DVrvrp5GZ8DfiN/wVM/aG/ZT8NftKeCfH3wr8Sr4vaPVtM+EDeH7C1tptOkk2oft8pjkU7P3hRrsME/5aF/3denf8Fgv+CwvxR/Z08Y/AD4NeEbzwJ8CfiV8Z9Oj1XxP4l8cXttc6b8O4Nu2SPzSTaSyLKsy+YxeM+SAFPmqy+MeGP2b/8AgpxoP7FGgfskaB4M8C+A9H8PtBo9v8ZtG8cfYpoNMglWVPKjt5hepIdojZxAC0e5TGCxevX/APgrJ/wRd+InxY1T9nr4o/Dmz8JfHLx38B9Fi8Paz4a+JW29tviHaLGAZJnumaNrguZnJmYZaUP5m6MBorcnMuT+F7Rd+bk5X2963Ny817ve2lzSipu/P/F5H25ea6tv7l7c3LbTbm1aMH9gH/grf8RPAf8AwVF8P/s2fET48/Cn9qrwz8SNJl1Dw98QPBsWn20+l3sUUsj2V1Dp7PAo2wSYB+b54234JQfrnX5R/sCfsKfHPxR/wUD8PfErxV+yz+zT+yl8MvBto5XQtD8P+HdY8RavemKVVmh1G0gL2y7pBuKvGQsWwK29nH6uVtJWpQ5vi1vttd2vbS9tO9km9bmS/iy5fh077213/wCGu2k7bFfJv7Xv/KUn9j7/ALnT/wBNEVfWVfJv7Xv/AClJ/Y+/7nT/ANNEVdOXfxX/AIZ/+kSODN/4Ef8AHS/9OQPrKiiiuA9QKKKKACiiigD5N/4Lkf8AKLb4of8AcK/9O9lX1lXyb/wXI/5RbfFD/uFf+neyr6yrvqf7lT/xT/KB5dL/AJGNX/BT/wDSqp+AP7Cujat+yV+z74f/AGwPDFtNdp8M/Hl54X+IVjApaTUvCt5baZvcADLNa3D+cq8DL7icIa+zv2//AIXal+yF8aNA/bL+B5h1Tw/qyQTeMtPspM2msWVzsIvF25BjmUpuYA7ZPKlwcuRf/wCDd/wXpfxI/wCCcXxC8Pa5ZQ6louveL9S06/tJhmO6t5dM0+OSNh6MrEH6103/AATE1qb9nTx549/Yl+Jj/wBsDwbay6l4DutSVXTxV4QumZVhIIxI9szPDIOm3hRtjJr4bKsujj+HqFO/LOCTjLqmno/k9+6Z/T/iBxnV4X8W82xTgquHrVJU61J/DVpyjFTg+11rF/Zmkz7K+APx28OftL/CDQ/G/hO9F9oevW4nhY4EkLdHikHO2RGBVh2Knr1rsa/Lr4ba3e/8EPP23ZPBWtXN1L+zv8Wbo3Oj387syeHrrIX52PA2ZRJD/FEYpM5Rlr9Q4pVniV0YOjgMrKchgehBr1MozGWJpuFZctWDtNdn3Xk90fm/iJwZSyPF08Vls3VwGKj7TD1P5odYS7VKb9ypHdNXsk0Oooor1j88CiiigAooooAKKKKACiiigAooooAKKKKACiiigAooooAKKKKACiiigAooooAKKKKACiiigAooooAKKKKACiiigAooooAKKKKACiiigAooooAKKKKACiiigAooooAKKKKACiiigAooooAKKKKACiiigAooooAK+Tf2vf8AlKT+x9/3On/poir6yr5N/a9/5Sk/sff9zp/6aIq78u/iv/DP/wBIkeXm/wDAj/jpf+nIH1lXHfGr9oj4f/s2eGrfWviL458HeAdHu7kWcF/4j1q20q2mnKswiWSd0VnKox2g5wpOODXY1+PX/B6bj/h218Pt33f+Fi2ufp/Z9/Xl1qjgk11lFa/3pJfqe3h6SqScX2k/ui3+h+lPwq/b/wDgP8dvGEPh7wR8bPhH4y1+5UvDpmh+MNO1G8lA6lYoZmcgd8Cu/wDiV8UfDPwY8F3viTxh4i0Lwp4d01Q13qms38VjZWoJCgyTSsqICSByRyRX8z//AAWIH7A6/s4fD1v2S/s//DRf9u6b9g/4Qk6p5nRt+/f+683z/K8vyv33mbNvy7q/U/8Abt/4JG/FH/gqf8Rf2Vh8Udc0Jvg74A0eDUfiN4Zk1W8tNS1vWXt1EpjWGHYRuUR7zPG6LLPs2lsno5ebSOlp8jb+G1r8yfVLZ/3rLqckai0c+sHOy+Le3K10bvdeV2ff/wAGf2gfAX7R3hiTW/h7428I+PNGhmNtJf8Ah3WLfVLVJQATGZIHdQwBHGc8iuvr8MP+CSfwe8F/Cj/g5X+Muhfswx6hZ/Abwr4WNj4qhstQmu9Hj1ILEoiWSV3MhW6E2zLEqUuQhEYxX7CftUfFvxz8Gvh9Z6n4A+Glx8U9Zn1FLWbSYdYi0tre3McrNcebIjghXSNNuMnzc54qqUFWhSnS+2rq9l1a3vaztdPs0TWq+xlUVT7DV7JveKlsle6vZrumeMf8FyP+UW3xQ/7hX/p3sq+sq/KP/gpl+2P8cPjB+zxqvgfx58AtQ+EngXxBd6fBrPim6vpdcg0iNb23lWVmt4VUAusa4Oclto+YjH6uV6OMw86GEpQna7lN6NPpDqrroeRl+Lp4nH1qlO9lGC1Ti73qPZpPrvY/PL/g2o/5MV8V/wDY+Xn/AKb9Or1L/grb+yx4m+JXw68OfF74VxbfjZ8CbxvEXhrYhLa1bBf9N0lwOWS4hBAXqWVVBG9jXlv/AAbUf8mK+K/+x8vP/Tfp1fobXxnCU3HKsPJfyn7z9IKmp+IObRf/AD9f5I+YZbf4bf8ABar/AIJ36ZqVuf8AiR+NrBb2xm4e68O6lHuQg9P3sEoeNxwHXcPuvmvHP+CS37WniP4Z+ONT/Za+MLfZPH3gPdB4du5WJXWbBF3LGjHG/ZFh4z1aHsDGc5lzdv8A8EbP+Cgkss2Lb9mf9pTWvMaTGy28BeLJAAS3ZLW8C9eArD+BIvn9N/4K2/sG6n+0V4K0z4k/Doy6b8Yvhowv9GurT5LjUYY28w2wPd1YF4s5G7cvSQkVnmBqUasczwSvKK1X88Osf8Ud4+fqR4acR4LH4OrwRxHNQw1eV6dR/wDMPiLWjU/691Phqr+W0rpxPseivnT/AIJnft6ad+3l8AItWlWLT/GegMth4m0sfKba5A4lVTyIpcFlz0IdMkoTX0XXp4TFUsTRjXou8ZK6Pz/iDIMdkmZVspzKHJWpScZLz7rumtU1o001owoooroPGCiiigAooooAKKKKACiiigAooooAKKKKACiiigAooooAKKKKACiiigAooooAKKKKACiiigAooooAKKKKACiiigAooooAKKKKACiiigAooooAKKKKACiiigAooooAKKKKACiiigAooooAKKKKACiiigAr5N/a9/5Sk/sff9zp/wCmiKvrKvk39r3/AJSk/sff9zp/6aIq78u/iv8Awz/9IkeXm/8AAj/jpf8ApyB9ZV+Vf/B3B+zx4/8A2k/2AfAmi/DvwN4w8favaePba8uLDw5otzqtzDALG9UyvHAjsqBnUFiMZYDPIr9VKK82cFLlv0cX/wCAtP8AQ9mjVdOTkuzX3pr9Tw/9nL9gD4IfAmPQfEPhT4J/Crwb4rtrCJDqek+D7DTtQiYxrvHmxwrICTnPP1r4G/4OUf2uv2qNEtdP+Cf7PXwm+LuoaL4q0tLzxN478IeGr/VJoYJJZY20+2e3jKxS7Y9zt5gcrIqjYCWP600VWKXt5Lm+G97dH5el9112ejaM8J/s8bR1drJ9fX1t9261SPyU/wCCFn7R/wDwz5f+DP2f/CX7DX7Q3wd8N6uZptZ8c+LNFuYo7m7jtHkN1fzvaxqXlaJY1G5UUyIqKAAtfrXRRW9as6j5pb9f66WWlkZU6ahpHb+r+t+p8m/8FyP+UW3xQ/7hX/p3sq+sq+Tf+C5H/KLb4of9wr/072VfWVdNT/cqf+Kf5QPPpf8AIxq/4Kf/AKVVPzy/4NqP+TFfFf8A2Pl5/wCm/Tq/Q2vzy/4NqP8AkxXxX/2Pl5/6b9Or9Da+Q4V/5FFD/Cfufj7/AMnDzb/r6/yRwX7T/wCzb4U/a9+Avib4c+NbBdQ8OeKbNrW5TjzIW4aOaMn7ssbhXRuzIK+Yv+CVv7SHirwL4t8R/ssfGS+Nz8VfhHbpJoury5A8ceHCdtrqEZJO6SMbY5RkkELks4kx9tV8s/8ABTP9hPVv2mvD3h7x/wDDPUYvC/x7+FEz6n4L1rIRLo4/e6bdHo9tcLlCG4Utn7rOrfTUpJr2ctn+D/rc/GK0Gn7WG6/Ff1t/wT55/wCCgPwf8Rf8E0P2qbX9qT4XWMlx4T1q4W1+IOgwfLFIJXG6fA4VZWwd2PknCtyJCo/Qb4N/F/w/8fPhfonjHwtfx6noPiC1W7tJ07qeCrD+F1YFWU8qykHkV4r+w5+2B4X/AOCmP7M+rQa5oKaX4j08zeGfiD4L1FP3+iXwDRz28iN83lPhzG/dcjh0cL8n/s9eLdT/AOCLX7as3wj8XX9xP8C/iddNeeFNXumymj3DMF2yN0XBKRy9v9VL8oLCvkqsXlGMcnpQqvXtCb6/4ZdeievU/fsHOPiHw8sNvm2Bp+5/NicNFXcP71agtY/alTvGzcbn6gUUgORS19OfhIUUUUAFFFFABRRRQAUUUUAFFFFABRRRQAUUUUAFFFFABRRRQAUUUUAFFFFABRRRQAUUUUAFFFFABRRRQAUUUUAFFFFABRRRQAUUUUAFFFFABRRRQAUUUUAFFFFABRRRQAUUUUAFFFFABRRRQAUUUUAFfJv7Xv8AylJ/Y+/7nT/00RV9ZV8m/te/8pSf2Pv+50/9NEVd+XfxX/hn/wCkSPLzf+BH/HS/9OQPrKiiiuA9QKKKKACiiigD5N/4Lkf8otvih/3Cv/TvZV9ZV8m/8FyP+UW3xQ/7hX/p3sq+sq76n+5U/wDFP8oHl0v+RjV/wU//AEqqfnl/wbUf8mK+K/8AsfLz/wBN+nV+htfnl/wbUf8AJiviv/sfLz/036dX6G18hwr/AMiih/hP3Px9/wCTh5t/19f5IKKKK+gPyA+Fv+Chv7NfjD9mn44wftZfAnSZtT8XaPbJZ/EXwfaghfH+iJjc6qvW+t1GY2wWZVA+baI5PR/iR4U+FH/Bav8AYRiuvDur22paLr0X2zRNWRB9p0HUEBGJI85SRCSksR5KswB5Vq+oq/Pn9qT9nHxh/wAEx/jjrX7R/wAAtEvNf8FeIJjd/Fb4Z2R+TUU6vrOnR9EvIxlnQDEg3HjLGqrUKWLovD11dNW16rt/kzfKs1xuS4+nmuWzcKlOSkmt4yX2l+q2a+aer/wSN/bK1+21fVf2bvi6Xsfil8Nt1rYSXDknW7GMZXax/wBY8abWDf8ALSEo/O1zX3jX53ftxfCjR/8AgoR+z/4M/an/AGcNYF7468JQpqml3lgmLjVLaJi0lpJHjP2mFt+I2GT+8jIO9cfS/wDwTq/bo0X9vb9nqy8T2YhsvENgVsvEGlq3NhdheSoPPlSfeQ+mQTuVsfN5VWq4Ws8qxbvKOsJP7Ue3+KOz8rM/X+P8qweeZdHjzIYKNOrJRxNKO1Cu9eZLpRraypvZS5oX0SPeqKKK+iPxkKKKKACiiigAooooAKKK+Xf20P8Ags9+zV/wT1+KVp4K+MHxI/4RDxNfadHq0Fn/AMI/quob7Z3kjWTzLW2lQZaKQYLbvl6YIynJJpN7jUZNNpbH1FRXzb+xf/wV6/Zv/wCChPie90P4Q/FPRvFWu2ERnl0uS0u9MvmiXG6SOC7iikkRdy7mRWC5GSM1337X37bfwr/YJ+FDeN/i54y03wZ4b+0JaRz3Ecs811M5wI4YIUeaZurERoxVVZjhVJDmnBJz0v389hQ992hq/I9Uormfgz8YfDn7QXwn8O+OPCGo/wBr+FvFmnw6rpV79nlt/tVtKgeOTy5VWRMqQcOoYdwK6aqlGUZOMlZoUZKS5o6phRRRUjCiiigAooooAKKKKACiiigAooooAKKKKACiiigAooooAKKKKACiiigAooooAKKKKACiiigAooooAKKKKACiiigAooooAKKKKACiiigAooooAK+Tf2vf+UpP7H3/AHOn/poir6yr5N/a9/5Sk/sff9zp/wCmiKu/Lv4r/wAM/wD0iR5eb/wI/wCOl/6cgfWVFFFcB6gUUUUAFFFFAHzR/wAFhPhvr3xb/wCCcXxJ0HwzpN9rutXMVhNBY2UJmuJ1h1G1mk2IOWIjjdsAEnbwCaw4/wDgtp+z3pkCjxH4k8ReDr/JV9P1rwtqUdzEw6giOB1yMjOGPWvrOiu6liaXsVRrQbSbas7bpJ7p9kebWwdf27xGHmotpJpx5lo5NbSj/Mz83v8AggJ410z4E/sRalb+Krn+ypvEHim51jT18t5/tFo9pZxLJmMMFy8Mo2thvlzjBBP2/wD8NU+Av+g9/wCSVx/8br4q/wCDdfQ7L4g/sOa/Lr1na63Jp3jK6sbR9QiW5a1t1sbB1hjLg7YwzuwUYALsccmvvb/hUnhT/oWPD3/guh/+Jr4bh/608upPD8qhbRSu3bzasm/kvQ/SPG6lxJHjzNI42rQlU9rK7jCpGL2taLqSa0tdcz16nPf8NU+Av+g9/wCSVx/8bo/4ap8Bf9B7/wAkrj/43XQ/8Kk8Kf8AQseHv/BdD/8AE0f8Kk8Kf9Cx4e/8F0P/AMTXs2zD+aH3S/zPyvlzr+el/wCAz/8Akjnv+GqfAX/Qe/8AJK4/+N0f8NU+Av8AoPf+SVx/8brof+FSeFP+hY8Pf+C6H/4mj/hUnhT/AKFjw9/4Lof/AImi2YfzQ+6X+Ycudfz0v/AZ/wDyR+dnxL8Gap+wd+0hffFj9lm5tfEfhbxxqC3Hj34S3DNp9pfyuQH1LS5plWK2uccsjMEb3wqLiePNO1T9kn9tjTvjp8D9Kurzwr45tvO8f+CGkitpbInDzFQz+S0mSXXynfbKrgExyYr9Lv8AhUnhT/oWPD3/AILof/ia/Pv/AILmfsW/8Ip8D9b+NXgfxx4w8E3WgQ21jrPh6w1Gb+xddtp7mG2Xbb7wltMjSIxkiA3qrqyneWry8+o4urhXiK0op0U5qUU+a8Ve122tdtU/M/RfCXMOJ8LxBSynByoSpZhKGGqU6kKjpyjVmo3aVSMrwbU4uMk4yV11T/Rjw5r9t4r8PWGqWTGSz1K3juoGK7S0bqGU47cEVxP7Sv7VfgL9kDwLaeJfiLr3/CPaJfX6aZBc/Yri733DxySKm2CN2GUikOSMfL1yRn52/wCCQP8AwUI+Hn7Q/wAAvCHwztbu78P/ABG8AeGtO06/8Oa1D9kvruCG1iSO/tlb/X2syBZFdM4WRdwXcudr/gq7/wA21/8AZd/C/wD7dV9XlcFiJU/bK3Mk3b0ufNcUR/s6tiaOGal7Kcopvyly6pNfdcP+H5H7Lf8A0VD/AMtvV/8A5Fo/4fkfst/9FQ/8tvV//kWvrKiur2mC/wCfcv8AwNf/ACB5Pssx/wCfsP8AwXL/AOWnyb/w/I/Zb/6Kh/5ber//ACLR/wAPyP2W/wDoqH/lt6v/APItfWVFHtMF/wA+5f8Aga/+QD2WY/8AP2H/AILl/wDLT5N/4fkfst/9FQ/8tvV//kWvOf2Hv+C9/wAPf2ktU03w1430+48BeML+RLaAjddaXfyscAJKBviJP8Mi7RwPMY198V4l+yX/AME8vhP+xXpaL4I8MW8erGPy59bvsXWqXIIwczEfID3SMIn+zW8KuXexmpU5c2lveT7/AN1fk/kctShm/t6co1Ycivze412t9qV+vVW63Pba/AT/AILs/tAfD39lv/g5S+Bfjz4q6d/a3gDw/wCBIpNXtP7OTUfOR21aJB5D/K/7x04PTr2r9+6/Mj9rH/gnr8YPiZ/wcgfAX496J4R+2/CfwX4YOnazrv8AatlH9jn8vVBs+zvMLh+biHlI2Hz9eDjx4RbxVBp2Sk7t7L3J7/l6n0TklhMQnreGi6v3o6LzPhv4HeMPBP8AwVL/AODgH4JfE79kf4P6x4E+H/w0An8ceJYtAh0axvSpmaTzEgJiDyRSLANx86XzDlNkYavZ/wDg53/4JKeDF/Z4+OH7U2v+KfGvibxso0e08O6TdX+3RvC8LXVjayCCEfMzOolY5bZmZj5e4B6/bSvjn/gvf+yt49/bU/4JZfEb4cfDPQv+El8Z69JprWOnfbbez88Q6hbzSfvbiSOJcRxufmcZxgZJArDFXhhoUqKfuu/d+9KPN8rLTsrmuDs8W6lVq0lFPorRvb8d++h1/wDwRo/5RPfs6/8AZPtH/wDSSOvpevDv+CZvwe8R/s+f8E9vgv4H8X6d/ZHinwn4P03StVsvtEVx9luYrdEkj8yJmjfDAjKMVPYmvca9bMpRli6sou6cpfmzzMDFxw1OMlZqK/IKKKK4jqCiiigAooooAKKKKACiiigAooooAKKKKACiiigAooooAKKKKACiiigAooooAKKKKACiiigAooooAKKKKACiiigAooooAKKKKACiiigAooooAK+Tf2vf+UpP7H3/AHOn/poir6yr5N/a9/5Sk/sff9zp/wCmiKu/Lv4r/wAM/wD0iR5eb/wI/wCOl/6cgfWVFFFcB6gUUUUAFFFFABRRRQB+eX/BtR/yYr4r/wCx8vP/AE36dX6G1+eX/BtR/wAmK+K/+x8vP/Tfp1fobXz/AAr/AMiih/hP1/x9/wCTh5t/19f5IKKKK+gPyAKKKKACvkz/AILl/wDKLT4of9wn/wBO9lX1nXyZ/wAFy/8AlFp8UP8AuE/+neyrys+/5FmI/wCvc/8A0ln3/hP/AMlvk3/YXh//AE9A5bT/APgm/wCA/wBun9gD4C32ptqPhP4heGfAuhT+GfHGgS/Zdb0CZbCFlKSrgvFuJzEx2nJI2thh80ftbfHL49/s5618GPCH7TNho2seE/BHxR0LxNa/GDSE8jT9Us7VpvNivrVRm3vFidpcINrrFJtDbCzfoz+wP/yYr8Fv+xD0P/03wV45/wAFe9CsfFOh/s8aZqdna6jpuo/HDw3a3dpdQrNBdQut2rxyIwKsjKSCpBBBINe9w3VfLRhLVcq+Xu9D4XxHor+0cfOOj9rP5/vHv/Vz6p8GeNtH+I/hWx13w/quna5ouqRCezv9PuUuba6jPR45EJVh7g1qV8H+Mv8AglX40/ZA8U3/AI1/Y68aReA5ruY3mp/DTxA8l54M1xureUmTJYyt/eiOPuqPLUGui+A//BZTwxc/EW1+G/x78L6t+zr8VZvkh07xNIp0bWiCFL2GpDEEyliANxU5IVS5qHRur09V+P3HCsRyvlqqz/B/P/M+zqKbHIJYwykMrDIIOQRTqxOkKKKKACiiigAooooAKKKKACiiigAooooAKKKKACiiigAooooAKKKKACiiigAooooAKKKKACiiigAooooAKKKKACiiigAooooAKKKKACiiigAooooAKKKKACiiigAooooAKKKKACvk39r3/lKT+x9/3On/AKaIq+sq+Tf2vf8AlKT+x9/3On/poirvy7+K/wDDP/0iR5eb/wACP+Ol/wCnIH1lRRRXAeoFFFFABRRRQAUUUUAfnl/wbUf8mK+K/wDsfLz/ANN+nV+htfnl/wAG1H/Jiviv/sfLz/036dX6G18/wr/yKKH+E/X/AB9/5OHm3/X1/kgooor6A/IAooooAK+TP+C5f/KLT4of9wn/ANO9lX1nXyZ/wXL/AOUWnxQ/7hP/AKd7KvKz7/kWYj/r3P8A9JZ9/wCE/wDyW+Tf9heH/wDT0D1n9gf/AJMV+C3/AGIeh/8Apvgryf8A4Ku/821/9l38L/8At1XrH7A//JivwW/7EPQ//TfBXk//AAVd/wCba/8Asu/hf/26r2eHf+XP+Ff+knxfiL/v+P8A+vs//TjPrKuK+Pn7OfgX9qT4d3XhP4h+FdF8X+Hrzl7PUrcSqjYIEkbfejkGTh0KsvYiu1oqE2ndHG0mrM+A1/4Jy/Hn9go/a/2Wfiw2v+D7U7h8L/iVNJf6akY5MVhqC/v7bAyEQ/JuOXc10Hw5/wCC2/hLwh4qtfB/7RfgzxT+zZ44mbykHiaPzvD2oOOptdViHkOnX5n2KMfeNfblfCf7S/wp179vv9uTx58Fdd8dazoHw28P+FdO1OTSNPsrSRNRlndg3nGaJ9w4HByMDGBkk9+Giq7ftbJJXb69F0Wu/wDwTy8ZOWFjF0E25Oyjpa9m+rVtF3+R9v8Ah3xJp/i/Q7XU9Jv7LVNNvYxLbXdpOs8Fwh6MjqSrD3Bq7X4w/Gb9hvXf2Kf+Ch3w2+DP7NHxA8U/DU+OfC41G9V9auf7K1HUIRdlria2XdEhcWgyI4woMjYXadte63P7U37dv7HB2+PvhbpHxl0CB9h1Tw/FuupwBksBajdGmOrSWg+tfJ4jiDD0686cYTlCDs5KN0nvqk29mtbH7flng7meMy3DYx4zDU62Ih7SFCdZU6koNuKcXNRptuUZLl57q19mfpTRXwR8Ef8Ag4d+Cvj64Wx8Z2Pif4camrbJvt1ob20jfpt8yAGTr13RKBX2H8Iv2jPAXx9077V4K8Y+G/FMQXc403UIriSIf7aKdyH2YA114PN8Fi9MPVUn2vr92/4HzHEnh3xNw/72cYGpSj/M4twfpUjeD+UmdpRRRXonxgUUUUAFFFFABRRRQAUUUUAFFFFABRRRQAUUUUAFFFFABRRRQAUUUUAFFFFABRRRQAUUUUAFFFFABRRRQAUUUUAFFFFABRRRQAUUUUAFFFFABRRRQAUUUUAFfJv7Xv8AylJ/Y+/7nT/00RV9ZV8m/te/8pSf2Pv+50/9NEVd+XfxX/hn/wCkSPLzf+BH/HS/9OQPrKiiiuA9QKKKKACiiigAooooA/PL/g2o/wCTFfFf/Y+Xn/pv06v0Nr88v+Daj/kxXxX/ANj5ef8Apv06v0Nr5/hX/kUUP8J+v+Pv/Jw82/6+v8kFFFFfQH5AFFFFABXyZ/wXL/5RafFD/uE/+neyr6zr5M/4Ll/8otPih/3Cf/TvZV5Wff8AIsxH/Xuf/pLPv/Cf/kt8m/7C8P8A+noHrP7A/wDyYr8Fv+xD0P8A9N8FZX7dn7I2qftf+BfB9hofjT/hAtb8FeLbLxdp+q/2QmqbLi1jnWIeS8iKcPKr5YsPkwVIPGr+wP8A8mK/Bb/sQ9D/APTfBXrVd+VVp0qNKpDdRX5eZ8zxph4V83x1Kqrp1andfbfVanyb/wAMhftSf9Hg/wDmKdI/+OUf8MhftSf9Hg/+Yp0j/wCOV9ZUV6v9o1e0f/AIf/InyX9kUP5p/wDg2p/8mfI99+xX+0vr1q1rqP7YGomzlx5gsfhxpljccHI2zRybl5AzjqMjoa4T9gP4S+Jfgl/wU6+MOheLfHWo/EnWP+EQ0m5/tu/tvs0/lNK22HYHZcKO/f0HOfvOvmb48/sIeM/Fv7R+ofFD4Y/GW/8Ahb4i1zSrfSNVR/DVprlvdwwklNqTlfLPIyeeh6ZrpoY91Izo1nGKkrX5Utbp/ZjfoceKytUp08RQjKcoyvZzbdrNac8rdTwv9o3/AJWNfgH/ANiHdf8AojXq/Q2vzX+PWia1H/wVr+EvhyPW11T4y2Hw9gisPFlxZpaWkzImqfa5pLdC8aGVTNhBG4UuACMAj6T/AOFY/tOf9FF8Hf8AgNH/APIVfm+X46WHxGKhGlOovavWKVvhiurT6dj9M8VuL6/Lk2GeW4leywVKPNy0+Wd6lafNB+1u4+9y3ai+aMlayTfqvxu/ZT+G37SNkYfHfgfwz4obyTAlxfWEb3Vuh5Iinx5sX1RlPNfIHxd/4N3fhF4h1JtV+HviDxj8MdYi2tZm0vDf2dqw6uFlP2gsfa4GM9K9q/4Vj+05/wBFF8Hf+A0f/wAhUf8ACsf2nP8Aoovg7/wGj/8AkKtcZUw2L/3jAzk+7jG/381z5Xhvxq4q4fdsmjjKMf5Vy8j9YOo4P5xZ84p+yz+3f+yO7t4C+K2h/GLQrZwsOm+IJP8ATble277V/qwPRbyrVt/wWy+Iv7PEwtf2gv2ePGHhaOFvLm1nRI2ezlfgYjWbETD3W5brX0J/wrH9pz/oovg7/wABo/8A5Cps/wAKv2mbmF45PiF4LkjkUqytaxkMDwQR9i6V5vJiKP8AuKrw8pKM4/dKV/ukfZ/8R+w2Ze7xRwv9ZfWpShDC1m+7lRqKm3/ipMz/AIO/8Fov2cPjIlskXxFsfDd9Om97XxFBJpn2brw88g+z5/3ZT1r6R8F+PtC+JGhR6p4d1rSde0ybmO7068juoJPo6Eqfzr4B+Lv/AARi1j45aj9s8Q2HwpN2W3vNptqdJklb1drS1iLn/ezXCXX/AAb2XekwXd54dl8L6D4hNu6Wep2niDVYJ7aQqdjCRFDYDYPXtXZhM6zaMuXE4Rtd46P/AMBba/8AJjxs0z/grFuH9j4bMaE5NLlrUsPUpxu93VhiIS5V1/cyduje/wCp9Ffj7/wSZ+Cn7RX7Vv7Nep+MvCX7W3xH8G6joviCfRY7HX7CHxhYypHb20wJF6/mLn7QU++du0EelfUP2X/goT8IRiO6/Zp+MGnRHAaeLUfD+r3HcHC7rZfTHuPevrMBiKWMw8MTRl7sldX0fz6fiRxbkGN4czjEZHmMU6tCTjJwfNFtdU9Hb1in5H3DRXw6v/BS/wDaJ+GB/wCLk/sU/EiKCPl7rwL4j0/xUZV6bkgjMbg/7JOafD/wcDfALwzMkPxCtfit8ILpm2G38aeBNRs3jfONrGGOVQQSM84Getdf1ep0V/TX8j5763S+07eun5n2/RXz18M/+Csv7M/xeEY0P46fDGSWYAx295r0FhcPxniK4ZHJwDkbeMc17r4a8W6V400wXuj6np+rWbHCz2dwk8R4z95SR0I/Os5QlH4kaxqRl8LuaFFFFSWFFFFABRRRQAUUUUAFFFFABRRRQAUUUUAFFFFABRRRQAUUUUAFFFFABRRRQAUUUUAFFFFABRRRQAUUUUAFFFFABRRRQAV8m/te/wDKUn9j7/udP/TRFX1lXyb+17/ylJ/Y+/7nT/00RV35d/Ff+Gf/AKRI8vN/4Ef8dL/05A+sqKKK4D1AooooAKKKKACiiigD88v+Daj/AJMV8V/9j5ef+m/Tq/Q2vzy/4NqP+TFfFf8A2Pl5/wCm/Tq/Q2vn+Ff+RRQ/wn6/4+/8nDzb/r6/yQUUUV9AfkAUUUUAFfJn/Bcv/lFp8UP+4T/6d7KvrOvkz/guX/yi0+KH/cJ/9O9lXlZ9/wAizEf9e5/+ks+/8J/+S3yb/sLw/wD6eges/sD/APJivwW/7EPQ/wD03wV61Xkv7A//ACYr8Fv+xD0P/wBN8FetV1YD/daf+FfkfP8AFf8AyO8Z/wBfan/pbCiiius8AKKKKAPzz+L5+2f8HGnwr8vn7J4Dn8z2zDqn/wAWv51+hlfnl8Rv+VjXwF/2Icv/AKIv6/Q2vn8h+LFf9fZflE/X/Fr+BkK/6l9H/wBOVmFFFFfQH5AFFFFABRRRQB+eX/BtR/yYr4r/AOx8vP8A036dX6G1+eX/AAbUf8mK+K/+x8vP/Tfp1fobXz/Cv/Ioof4T9f8AH3/k4ebf9fX+SCmTwJdQPFKiyRyKVdGGVYHggjuKfRX0B+QHkfxN/YD+BvxmMjeKvg98MtfmlJLXF54as5LgEnJIlMe8EnqQRnJ9a8K8S/8ABvv+ytquom/0f4f6h4K1UjAvvDPiTUtNlQegVJ/L68/c7CvtGitI1qkdmzKWHpS+KKfyPh7/AIc3eJfAHzfDn9rb9pvwuU5itdY8QxeItPgIwQFguIhxnkgsc5PY0D9mL9uv4ZD/AIkH7Tfwy+I0acRxeMfh6mmHb0AaSwkLMQD97GSVHqa+4aKr28+tn8kR9VgvhuvRv/M+Hv8Ahcn/AAUB+HDD+2fgx+z58SAmNw8J+L7zR/M6fd+3ocdcc+h9qVP+Cpfxw8CH/iv/ANiX40abs/1v/CJarp/ivHTO3yWj3fxfXA9ePuCij2sXvFfj/mHsZr4Zv8H+h8QL/wAF9PhB4b/5HvwV8evhaV/1o8V/Du/t/I6Z3eSJemTnGfun2z2Pw/8A+C5X7JXxMCHTvjp4LtvMxj+1Xm0nGcdftUcWOo6+/oa+rq47x/8As8+APivv/wCEp8DeD/Evmff/ALV0a2vN318xGzRzUn0f3/8AADlrraSfy/4JQ8A/tY/Cz4rhP+EW+Jfw/wDEnmDKf2V4htLzd9PLkbNegV8wePf+CLX7KfxILf2h8Bvh3b7+v9l6aNKx06fZTHjoOnv6mvP/APiH3+APhv8A5Ee6+LHwx2jCDwt4+1O38voOPOll/wBr/vtvbBak+r+7/ghzV1vFP5/8A+36K+IT/wAEkPiN4LH/ABRP7Zv7SenkZKf8JNqNp4mCnnqJokJGWPU9MDsKQfspftx+AWzo37VvgPxyiEFIvFHwzt7DIyTtZ7OTJ4CgtgE7mPBAo9nF7SX4/wCQe2mt4P8AD/M+36K+IP8AhKP+Ch3gLH2zwv8AsreP7dMBTpOp6vpN1IOBl/PDRg8k/LxgfQUn/Dwj9qvwKv8AxV/7Emvzwr/y9+FviDper+b06QbUkXBYDk84YjgUewb2a+9B9ZiviTXyf6H3BRXwF4z/AODhX4f/AANa2T4t/Br9ov4R/aiRHc+I/BwSynxjPlTJM3mY3Rg4XgyKK7L4df8ABwT+yB8TDGlp8Z9H06ZyAY9X06+03YTgYLzwqnfqGI688Gj6tVtflYLF0W7cyv8AcfZdFeb/AAo/bF+Evx2eNfBXxP8Ah94sll2hYtI8Q2l5LluilI5Cwb2IzntXpFZNNaM3Uk1dBRRRSGFFFFABRRRQAUUUUAFFFFABRRRQAUUUUAFFFFABRRRQAUUUUAFfJv7Xv/KUn9j7/udP/TRFX1lXyb+17/ylJ/Y+/wC50/8ATRFXfl38V/4Z/wDpEjy83/gR/wAdL/05A+sqKKK4D1AooooAKKKKACiiigD88v8Ag2o/5MV8V/8AY+Xn/pv06v0Nr88v+Daj/kxXxX/2Pl5/6b9Or9Da+f4V/wCRRQ/wn6/4+/8AJw82/wCvr/JBRRRX0B+QBRRRQAV8mf8ABcv/AJRafFD/ALhP/p3sq+s6+TP+C5f/ACi0+KH/AHCf/TvZV5Wff8izEf8AXuf/AKSz7/wn/wCS3yb/ALC8P/6eges/sD/8mK/Bb/sQ9D/9N8FetV5L+wP/AMmK/Bb/ALEPQ/8A03wV61XVgP8Adaf+FfkfP8V/8jvGf9fan/pbCiiius8AKKKKAPzz8S/P/wAHGnh/POzwG+3P8P7m46fmfzr9DK/PK+P2/wD4ONbPdx9i8Bnbj+LMD9f++z+Qr9Da+fyDfE/9fZ/ofr/i58OSL/qX4f8AOowooor6A/IAooooAKKKKAPzy/4NqP8AkxXxX/2Pl5/6b9Or9Da/PL/g2o/5MV8V/wDY+Xn/AKb9Or9Da+f4V/5FFD/Cfr/j7/ycPNv+vr/JBRRRX0B+QBRRRQAUUUUAFFFFABRRRQAUUUUAFFFFABRRRQA2WJZ4mR1Do4KsrDIYHqCK8k+KP7APwN+NiynxZ8H/AIaa/NNndcXnhu0e4BJySJfL8xST3DA8n1r12impNaoUoqWkkfCXxT/4NtP2Qfib5skXw1uvDF3NnNxoeu3tvtyc/LE8rwjv0j7/AExxOnf8G78vwel3fB/9qn9ov4copJjtX1tb6zTJztMMYgV0Ho2exyTX6R0VssVVStzfqczwVBu/Kl6afkfBnw+/ZI/bv+DeuafbWn7Ufw6+IugRXCJOfFvgXyLmODJDsPsriSVwOQrzjJ4LgV94QB1gQSsryBRvZV2qx7kDJwPbJ+tPorOdRy3/ACsbU6Shs3823+YUUUVBoFFFFABRRRQAUUUUAFFFFABRRRQAUUUUAFFFFABRRRQAV8m/te/8pSf2Pv8AudP/AE0RV9ZV8m/te/8AKUn9j7/udP8A00RV35d/Ff8Ahn/6RI8vN/4Ef8dL/wBOQPrKiiiuA9QKKKKACiiigAooooA/PL/g2o/5MV8V/wDY+Xn/AKb9Or9Da/PL/g2o/wCTFfFf/Y+Xn/pv06v0Nr5/hX/kUUP8J+v+Pv8AycPNv+vr/JBRRRX0B+QBRRRQAV8mf8Fy/wDlFp8UP+4T/wCneyr6zr5M/wCC5f8Ayi0+KH/cJ/8ATvZV5Wff8izEf9e5/wDpLPv/AAn/AOS3yb/sLw//AKeges/sD/8AJivwW/7EPQ//AE3wV61Xkv7A/wDyYr8Fv+xD0P8A9N8FetV1YD/daf8AhX5Hz/Ff/I7xn/X2p/6WwooorrPACiiigD88rYfa/wDg41n8v5vsvgQeb225gX8/vL09a/Q2vzz8Of8AKxpr3/Yhr/6Jgr9DK+f4f/5if+vs/wBD9f8AF74smX/Uvwv5Sf6hRRRX0B+QBRRRQAUUUUAfnl/wbUf8mK+K/wDsfLz/ANN+nV+htfnl/wAG1H/Jiviv/sfLz/036dX6G18/wr/yKKH+E/X/AB9/5OHm3/X1/kgooor6A/IAooooAKKKKACiiigAooooAKKKKACiiigAooooAKKKKACiiigAooooAKKKKACiiigAooooAKKKKACiiigAooooAKKKKACiiigAooooAK+Tf2vf+UpP7H3/AHOn/poir6yr5N/a9/5Sk/sff9zp/wCmiKu/Lv4r/wAM/wD0iR5eb/wI/wCOl/6cgfWVFFFcB6gUUUUAFFFFABRRRQB+eX/BtR/yYr4r/wCx8vP/AE36dX6G1+eX/BtR/wAmK+K/+x8vP/Tfp1fobXz/AAr/AMiih/hP1/x9/wCTh5t/19f5IKKKK+gPyAKKKKACvkz/AILl/wDKLT4of9wn/wBO9lX1nXyZ/wAFy/8AlFp8UP8AuE/+neyrys+/5FmI/wCvc/8A0ln3/hP/AMlvk3/YXh//AE9A9Z/YH/5MV+C3/Yh6H/6b4K9aryX9gf8A5MV+C3/Yh6H/AOm+CvWq6sB/utP/AAr8j5/iv/kd4z/r7U/9LYUUUV1ngBRRRQB+eXw8/e/8HGvjvd83l+A4tmedv7ix6enU/ma/Q2vzz+E3/Ew/4ONPid/D9h8Bw4/28w6Z/wDF/pX6GV8/w/8ADiP+vtT8z9f8Yf4+UL/qX4T/ANN3CiiivoD8gCiiigAooooA/PL/AINqP+TFfFf/AGPl5/6b9Or9Da/PL/g2o/5MV8V/9j5ef+m/Tq/Q2vn+Ff8AkUUP8J+v+Pv/ACcPNv8Ar6/yQUUUV9AfkAUUUUAFFFFABRRRQAUUUUAFFFFABRRRQAUUUUAFFFFABRRRQAUUUUAFFFFABRRRQAUUUUAFFFFABRRRQAUUUUAFFFFABRRRQAUUUUAFeN/Gr9mS++KX7XPwS+I8Gp2lrZfCv+3ftdnJGxlvv7Qskt02MOF2FcnPUHivZKK0pVZU5c0OzX3pp/gzKtQhVjyz2un84tNfikfJv/D13/q2v9rL/wAN7/8AdFH/AA9d/wCra/2sv/De/wD3RX1lRXX9Yw3/AD6/8mZwfVcZ/wA//wDyVHyb/wAPXf8Aq2v9rL/w3v8A90Uf8PXf+ra/2sv/AA3v/wB0V9ZUUfWMN/z6/wDJmH1XGf8AP/8A8lR8m/8AD13/AKtr/ay/8N7/APdFH/D13/q2v9rL/wAN7/8AdFfWVFH1jDf8+v8AyZh9Vxn/AD//APJUfJv/AA9d/wCra/2sv/De/wD3RWT4s/4LM6H4ChsZNd+Av7Tmix6neRadZtf+CI7YXd1KSI4Iy9yN8rkHagyzY4FfZFfOn/BUP4PeJ/i5+zHDL4L0x9b8VeDvEWl+J9O0+Nwkl49rcqzIhJA3eWzkeu3A5IrfDTwlSrGE6dk3a/MzmxlLH0qEqtOtzNK9uRanxh/wSI+Pviz9gT9m3W/B3jH9nv8AaQ1LU9S8Sz6zFLo3gSaaBYXtbSEKxleNt+6ByQFIwV56gfVH/D13/q2v9rL/AMN7/wDdFH/Dw34pf9Gq/Fn/AMCrT/4qj/h4b8Uv+jVfiz/4FWn/AMVWGWZNTwWFhhYU7qKtd1I3f3WR7vGnHGL4lzzE57i6nJUry5nGFKfKntZc3M7adWw/4eu/9W1/tZf+G9/+6KP+Hrv/AFbX+1l/4b3/AO6KP+HhvxS/6NV+LP8A4FWn/wAVXN/Ez/gsHffs/aPDq/xM+AvxO8D6BcyPaw6jctbTJJdeTJLFBhW4MnlkAk4HJPANehHB8ztGgm/Kaf6nyssx5FzTxLS7uk0vvaOk/wCHrv8A1bX+1l/4b3/7oo/4eu/9W1/tZf8Ahvf/ALoqKz/4KM/E7ULOKeL9lb4stFMgkRvtNoMqRkHBOal/4eG/FL/o1X4s/wDgVaf/ABVL6rH/AJ8r/wAGL/Mr69L/AKCJf+Cn/kH/AA9d/wCra/2sv/De/wD3RXzz/wAFWP8AgoL/AMLx/YH8eeF/+FIftC+EP7U/s/8A4m/ibwd/Z+l2nl6jay/vp/ObZu2bF4OXdB3zX0N/w8N+KX/RqvxZ/wDAq0/+KrzH9rb4ofFz9vD4SxfCuD9nvx94PtPFGs6Yuo6vq11bfZbO0hvIp5Hfa2eBGD+HAJxUVMrw+Jg8PiKSUJq0mqiuk9HbXex6GU8UY/J8dRzbLqzlXoTjUpp0nZzhJSinotOZK+q0Nb9mT/golffBf9m34e+DtU/Zx/ann1Pwn4a03RruW1+H7NBJNb2scLtGWmVihZCQSoOMZA6V3H/D13/q2v8Aay/8N7/90V9ZUV51CeFpU401SvZJfE+h6WZzx2NxlXGTrWdSUpNKKsuZt2WvmfJv/D13/q2v9rL/AMN7/wDdFH/D13/q2v8Aay/8N7/90V9ZUVr9Yw3/AD6/8mZw/VcZ/wA//wDyVHyb/wAPXf8Aq2v9rL/w3v8A90Uf8PXf+ra/2sv/AA3v/wB0V9ZUUfWMN/z6/wDJmH1XGf8AP/8A8lR+R/wU/a6v73/grN8TfjlpvwV+PWt+FLzRh4UnstN8INc6npmoQx2CyQ3MayeXEy/Z2ypk3gOmVGTj6+/4eu/9W1/tZf8Ahvf/ALorzf4bftQ6b/wT+/ai+Pvhzxr4b8dSWPivxcvivRrvSNAnv7e7ju7aMykOgx8roFPuGHY16R/w+T+Fv/Qu/Fn/AMIy7/wrTC5JTwvOqFGU4zk53v8Az620Wyvbv3PQ4j47xWevDTx9eFKeHo08PZR3VFckZPmb96SV3ay7JIP+Hrv/AFbX+1l/4b3/AO6KP+Hrv/Vtf7WX/hvf/uij/h8n8Lf+hd+LP/hGXf8AhR/w+T+Fv/Qu/Fn/AMIy7/wrr+py/wCgZ/ez5v8AtCH/AEGx/wDAUH/D13/q2v8Aay/8N7/90Uf8PXf+ra/2sv8Aw3v/AN0VFH/wWu+CN55MNlJ421LVSZhdaVaeGrmS/wBO8plUmeLGUBLjB575weKl/wCHyfwt/wChd+LP/hGXf+FH1OX/AECv72H9oQ6Y2P3RD/h67/1bX+1l/wCG9/8Auij/AIeu/wDVtf7WX/hvf/uij/h8n8Lf+hd+LP8A4Rl3/hR/w+T+Fv8A0LvxZ/8ACMu/8KPqcv8AoGf3sP7Qh/0Gx/8AAUfIP/BIj9rq/wD2BPhNrfwm8Y/Bb49al451LV5/FsWm6N4QaaddOeG0tBO0UskcuzzoHUuEKZKjdnIH19/w9d/6tr/ay/8ADe//AHRXPfslfEdf2tv+Cl3i/wCK+jaF4n0zwpoXw8tPCNvc6zpcmnvczyX73bhFcAnG3nHTjPUV9p15lDAYPLKFPBQpt8sVvLXvrZJfgfWcR8VZtxbm+K4hxdSEJ15ttQhaHb3eaUnbTrJ+p8m/8PXf+ra/2sv/AA3v/wB0Uf8AD13/AKtr/ay/8N7/APdFfWVFafWMN/z6/wDJmeP9Vxn/AD//APJUfJv/AA9d/wCra/2sv/De/wD3RR/w9d/6tr/ay/8ADe//AHRX1lRR9Yw3/Pr/AMmYfVcZ/wA//wDyVHyb/wAPXf8Aq2v9rL/w3v8A90Uf8PXf+ra/2sv/AA3v/wB0V9ZUUfWMN/z6/wDJmH1XGf8AP/8A8lR8m/8AD13/AKtr/ay/8N7/APdFH/D13/q2v9rL/wAN7/8AdFfWVFH1jDf8+v8AyZh9Vxn/AD//APJUfJv/AA9d/wCra/2sv/De/wD3RR/w9d/6tr/ay/8ADe//AHRX1lRR9Yw3/Pr/AMmYfVcZ/wA//wDyVHyb/wAPXf8Aq2v9rL/w3v8A90Uf8PXf+ra/2sv/AA3v/wB0V9ZUUfWMN/z6/wDJmH1XGf8AP/8A8lR8m/8AD13/AKtr/ay/8N7/APdFH/D13/q2v9rL/wAN7/8AdFfWVFH1jDf8+v8AyZh9Vxn/AD//APJUfJv/AA9d/wCra/2sv/De/wD3RR/w9d/6tr/ay/8ADe//AHRX1lRR9Yw3/Pr/AMmYfVcZ/wA//wDyVHyb/wAPXf8Aq2v9rL/w3v8A90Uf8PXf+ra/2sv/AA3v/wB0V9ZUUfWMN/z6/wDJmH1XGf8AP/8A8lR8m/8AD13/AKtr/ay/8N7/APdFH/D13/q2v9rL/wAN7/8AdFfWVFH1jDf8+v8AyZh9Vxn/AD//APJUfJv/AA9d/wCra/2sv/De/wD3RR/w9d/6tr/ay/8ADe//AHRX1lRR9Yw3/Pr/AMmYfVcZ/wA//wDyVHyb/wAPXf8Aq2v9rL/w3v8A90Uf8PXf+ra/2sv/AA3v/wB0V9ZUUfWMN/z6/wDJmH1XGf8AP/8A8lR8m/8AD13/AKtr/ay/8N7/APdFH/D13/q2v9rL/wAN7/8AdFfWVFH1jDf8+v8AyZh9Vxn/AD//APJUfCX7TP8AwV+1rwn8BvE2peHfgX+0R4X1uytPNtNV8S+BBBpNk4ZfmuX887Y8ZBOO/HrWv/wTB/4K5XH7edw2h6x8PNe0bXbKP/StX0u2kutBLAZw8p+a3dv4Ucvn+/X1z8TPhnofxj8Cal4Z8S6fHquhaxF5N5ZyOypcJuDbSVIOMgZ556dKseCvA2i/DbwxaaL4e0nTdD0ewTy7aysLZLe3gX0VEAUfgK2lisG8O6ao+/fR32/z9DnjgcwWLjVeIvTS1XKtdfw9dzVoooryj3AooooAKKKKACiiigAooooAKKKKACiiigAooooAKKKKACiiigAooooAKKKKACvl/wD4K3/s7a/+07+yzZeG/DmiS6/fp4n028kto5I0ZYEkYTPlyBxGzd889K+oKK2w1eVCrGtDdO5zYzCwxNCVCe0lYKKKKxOkKKKKACiiigAooooAKKKKACiiigAoory740ftwfBb9m/xTFofxE+L/wAL/AWt3Fut5Fp/iPxVY6XdSQMzKsqxTyoxQsjAMBglSM8GldLcdm9jw39kv4M3PhX/AIKv/tP+JZdGv7LT7+10GPTr6W0dLe982zSS58qQgK+JYxu2k4PXmvsOuC+CP7VHww/aZt72X4b/ABH8B/ECLTmC3b+GvEFpqq2pPQSGCR9pPviu7mmW3haSRlREBZmY4CgdSTXTi8RKpJTnpZRX3JK/z3OPA4WNCDpwd7yk/wDwKTdvlew6iuN+C37RXw+/aS0C71X4d+OvB3j3S7C5NndXnhzWrbVLe2nChjE7wO6q+1lO0nOGBxzXZVg01udYUUUUgCiiigAooooAKKKKACiiigAooooAKKKKACiiigAooooAKKKKACiiigAooooAKKKKACiiigAooooAKKKKACiiigAooooAKKKKACiiigAooooAKKKKACiiigAooooAKKKKACiiigAooooA8Z/4KLfFfX/gR+wR8ZfGvhW//srxN4U8Garq2lXnkRz/AGW5htZJIpPLkVo22soOHUqccgivyJ/YD8Y/8FVf+CgH7HejfG7wN+0r8Mp9O1OW6+y+Hta8M6ZbXN6bW4eF4meLSyi+YY2CnzF+8MsnJH6qf8Fcv+UW37Q//ZO9c/8ASGavhr/g24/bu+Cf7OX/AARU8CWvj34t/DfwhfaPdaxNeWWreI7S1vIFbUbh1zA8gkJZSCqhSW3DAORWdHl568pytyxg12V5Tu7PTojTEe7Rocq+Kc0/NKMWl33PVf8AgkD/AMFvNU/bC+FPxl0j43eF7LwH8X/2eTcv4w0zTgwt57aASh5okd3KOjwSxunmMuQjK+JNqfDMv/BTv/gox8df2P8Axf8AtreDvGHwt8I/A/w3qksln8PbnSoLi4vtPguVt5GMrWzTPhmAci7hZzHKY1jGxG9E/wCDfDxRb/tK/wDBVH9s/wDa0sWn0T4O6lNcabY6rqT/AGW2uVNwly0rlwoTy7a3jlcNjyxcoGPesr9tP9vNP+Dg74+337Pnw9+IHhv4W/st+EtQhn8deO9Y1WCxuPGbRSBktNPimZd8e9C65BGUSSTaBHHLX72fsmklVqU4txekabv70pLqmre6+7Ud9FDkg6ietKFRrm3c420in35m1ddtdtf1v/YA/ao/4bd/Yt+G3xYbSf7Cl8daHDqc2niXzVtJWysiK+BuUOrbSQDjGQDXsFcL+zN4V8CeAfgF4T8PfDKbR5/Afh3TotK0VtLu0u7UQW48oBZUJDkFCGOSSwbPOa7qunEuDrTdNWjd29L6HNh1NUoqprKyv69QooorA2CiiigAooooAKKKKACvwt/4K4/s8+Df2rP+Dp79nbwB8QNDh8R+EPEPgdI9R02WaWFLlUGsSqC0bK4w6KeGHSv3Sr8Q/wDgs9pvxh+A3/BwR8Gfj94G+AHxX+M3hzwH4MiiuI/C+gXtzBNM7anEYTcw28qI6i4RypBOCOBkGoi4LF0JVPhUnfr9if6mj5nhMRGG7hp680Tkf+C9n/BKH4d/8EgPhp4H/am/Zej1L4TeMvBHimytLuytNVurmy1COUSENtmeRgd0ao8e4RSRPIGUnr92/t3/ALJHxA/4LIfsv/CTUdB+Muu/CD4VeJvC/wDb3jPRtEhJvfEsd3bW00Vn5mV2RhTOrby6HeN0T44+KP2v7j9sH/g42vPB3wol/Zy8Wfsz/BPSfEFvqfivWfGEssN9dhFYBo4p4bd5QiSS7Yo45FaXyy8kYHH7X6X4Dsfh58Hrfwxolu0em6Hoy6XYQL8zJDFAIo0HqdqqKiqqkcBV9pvzOVNdlya3XZys0n22RMJxeMpulouW03td82ln3Ubptdz8k/8AgyugFr+wF8VI1ztj+IkyjPXA0+zFfsjX5R/8GkH7OvxB/Zt/Yp+JulfETwL4x8Bapf8Aj6a8tbPxHotzpdxcwGytVEqJOiMyblYbgMZUjPFfq5XpY6V5xf8Ach/6REwpRUXNLbnn/wClyCiiiuM1CiiigAooooAKKKKACiiigAooooAKKKKACiiigAooooAKKKKACiiigAooooAKKKKACiiigAooooAKKKKACiiigAooooAKKKKACiiigAooooAKKKKACiiigAooooAKKKKACiiigAooooA534u/CjQPjv8AC3xF4K8V2H9q+GfFenT6Tqtn58kH2q2mQxyx+ZGyuu5WIyjBhngg18Uad/wbAfsL6XqEFzH8C4Wkt5FkUTeLdemjJByNyPelWHqGBB7ivvmikkoy51v366bDcm48j27HnUv7JPw1H7OGp/CG08F6Ho/w11fTLjR7rw/o8H9l2jWtwrLNGot/LMZcO2WQhssTnPNfIv8AxC4/sKf9EN/8vPxB/wDJ1ff9FNpOTm931Em1FQWy6dDz79lv9ljwH+xZ8DtG+G/wz0L/AIRrwX4fM50/TvttxefZ/OmeeT97cSSStmSR2+ZzjdgYAAr0GiiqlOUnzSd2xKKirIKKKKkYUUUUAFFFFABRRRQAUUUUAFFFFABRRRQAUUUUAFFFFABRRRQAUUUUAFFFFABRRRQAUUUUAFFFFABRRRQAUUUUAFFFFABRRRQAUUUUAFFFFABRRRQAUUUUAFFFFABRRRQAUUUUAFFFFABRRRQAUUUUAFFFFABRRRQAUUUUAFFFFABRRRQAUUUUAFFFFABRRRQAUUUUAFFFFABRRRQAV8u/t8/8Favhz/wTc+K3ww8N/ErRPG8On/FS/wD7M0/xLY2dtLommTiSNGW8ke4SWIKJVclYn+TcRnawH1FXy3/wWN/4J36b/wAFN/2CfGPw4lhg/wCElSA6t4Uu5Dt+xatArGA7uySZaFzz8kznGQCMa1R00qqV1Fptd49UvO23ma0YKpL2bdr6J9n0b8r7+Vy9/wAFMf8Agqr8M/8AglX8MPDniX4hWvijW38W6quj6Po/hq0hvNTv5dhdnSOWaJSijaGO/rJGACWFMsv26fiHqP7dHgj4XL+zp8RrXwH4u8KDxDeeP7uREs/Dt0Y5JDp11GiPEsylUjOLktvk+VHRS9fjj/wRE8KfEr/gtl+3v8PPGfxsWWXwn+xf4cs9GjtLkFv7T1pJZBbvKrAfvswrLMecmyhBGJOPs744/tFfEDR/+Dr34T/Du18c+Mbb4e6h8Opb678MQ61cpo11cC31RhNJaB/JaTMcZ3FScovPArr9koygnK/PKbXbkjCbi+/vcvP5JxWqbOSdSXJUdrckYp9+dyjzJf4b8vm7vex+rNeG/wDBRL9v/wAHf8Ezf2YtR+K/jvTfE2reHdMvLaxlt9Bt4J71nuJBGhVZpoUwCecuDjoDX4Tp/wAFcdG/bl+PXxj8Q/HL9tz4w/sx2+hazc6X8OvCPgKy1OG0it4ywjub57GCUXI3Ku9JGDs3mbXVCqjR/aQ/4KReMf8Ago9/wa4fEDUfiDqVrr/jDwD8QtM8N3WtQQC3/tuFZoJoLl4wF2uVlKk7EzsBxktXDKrKWH9tT/uP/t2c4x325veV10v5O3cqcY13Sn/fXb3oxk9t7e67Pr81f+hj4SfEmx+Mvwq8M+L9Miu4NN8V6Ta6xaRXSqs8cNxCkyLIFZlDhXAIDEZzgnrXiv7fH/BTbwH/AME6tZ+F9j420nxdqkvxa8Rx+GNIOh2tvOttcu0ah7jzp4iseZF5QO3B+WvgX/gq/wDtyfE/9mb/AIJifsdfDf4S6+/gvxT8d7LQfDT+Jof+PjR7f7DZo3kkDKO73Ef7xfmVUfbhmDL82/8ABYz9hX4nfsP/ABd/Y/07xJ+0L4++OXg/VPidYPDH43f7Xqul6ks9r5skN0xaRraVCP3LsfLMYwW3sR314JYx0o6QVaNO76+9HmXl7skk/wCZ28zzsPUlLBqtLWbpOp/5LK3/AJNFtrsvkf0L0UUVidIUUUUAFFFFABRRRQAUUUUAFFFFABRRRQAUUUUAFFFFABRRRQAUUUUAFFFFABRRRQAUUUUAFFFFABRRRQAUUUUAFFFFABRRRQAUUUUAFFFFABRRRQAUUUUAFFFFABRRRQAUUUUAFFFFABRRRQAUUUUAFFFFABRRRQAUUUUAFFFFABRRRQB+fv8AwQu/4JTfEP8A4Jka38e7nx5rPgzVk+KXimPW9JGgXdzObeFWuSVn863h2v8Avl4TeODz0zc+KH/BLX4geNv+C+3gD9qi11fwcnw98K+Dn8PXenTXVyNZkuGhvkDRxCAwmPN1HyZgcBvl4GfvaiiHuezt9hKK9FD2f/pL+/UUkpRqRf222/Vz53/5MfldoH/BJH9rL/gnv8ZvifcfsffFD4PW/wANfirqk+vT+HPiJYXYfw1fTfeeze1hkDhRwu/aoVUVkcrvPX/EP/giL8Svj5/wSB8W/AT4n/tAa/8AET4n+KtUg18eLNb866stNuIZYXjs4Y2fzBbbYmUtndumZ9gwIx+kVFR7OPsfYvayXdpRacUvSyt1skm7aGvtZe19st7tvs27ptrzu79NW7XPyf8Ajh/wQ/8A2gP2xf8Agml8O/AfxL+JPw60r47/AAK1qK8+H/iPw5FcnSzZW9tBDBBdl4I5FlLQh2ljibaY4yFbLCuV/aS/4Ix/tv8A7c/j34JeL/jL8aPg1rOofC3xbZ6q2gaNDeafpMFrFLE89wkgtDJc3s3lKNsiRRx4YKcOcfsVRWzqN1fbPfmU/wDt5cvver5Vzd/XUx5I+y9ilZcrj/267+76K7t6220CiiioKCiiigAooooAKKKKACiiigAooooAKKKKACiiigAooooAKKKKACiiigAooooAKKKKACiiigAooooAKKKKACiiigAooooAKKKKACiiigAooooAKKKKACiiigAooooAKKKKACiiigAooooAKKKKACiiigAooooAKKKKACiiigAooooAKKKKACiiigAooooAKKKKACiiigAooooAKKKKACiiigAooooAKKKKACiiigAooooAKKKKACiiigAooooAKKKKACiiigAooooAKKKKACiiigD/2Q==)\n",
        "\n",
        "\n",
        "<br>\n",
        "<br>\n",
        "Based on the convex nature of the bond price-yield curve depicted in Figure 2, the amount of price change when yield changes by the same amount varies depending on yield level. In Figure 2, D1 and D2 have the same length. When the yield changes by D1, the amount of price change is P1. When the yield changes by D2, the amount of price change is P2. However, the yield level for D1 is higher than the yield level for D2. Because of the convexity of the price yield curve, P1 is smaller than P2.\n",
        "<br>\n",
        "The feature of this relationship between bond price and bond yield is called **curvature**. The example above demonstrates that the slope of the price-yield curve changes when the level of the yield changes. The curvature of the price-yield curve is used to describe this slope dependency on yield level. A bond portfolio manager will have to pay attention to the curvatures of the bond holdings when managing interest rate risk.\n"
      ]
    },
    {
      "cell_type": "markdown",
      "source": [
        "##**4. Polynomial Fitting for U.S. Treasury Yield Curve**\n",
        "We talked about U.S. Treasury yield curve in the previous lesson. Yield curve describes the relationship of bond yield and time to maturity (or maturity) of similar bonds. This relationship is also called the **term structure** of a yield curve. Analyzing term structure is critical in bond pricing and interest rate risk management. In this section, we will introduce methods to fit a yield curve. We will continue to use U.S. Treasury bond yields as an example. First, let's make a graph for the U.S. Treasury yield curve on 2020 January 10th."
      ],
      "metadata": {
        "id": "quxsE0qRwCwZ"
      }
    },
    {
      "cell_type": "code",
      "execution_count": 15,
      "metadata": {
        "colab": {
          "base_uri": "https://localhost:8080/",
          "height": 625
        },
        "id": "JeJ1OS3Mn5Mc",
        "outputId": "8dc7661f-3f26-4304-f394-c8dbb7f40f1c",
        "tags": []
      },
      "outputs": [
        {
          "output_type": "stream",
          "name": "stdout",
          "text": [
            "Figure 3\n"
          ]
        },
        {
          "output_type": "stream",
          "name": "stderr",
          "text": [
            "/tmp/ipython-input-1226209266.py:6: UserWarning: set_ticklabels() should only be used with a fixed number of ticks, i.e. after set_ticks() or using a FixedLocator.\n",
            "  ax.set_yticklabels(['{:.2f}%'.format(y) for y in ax.get_yticks()])\n"
          ]
        },
        {
          "output_type": "display_data",
          "data": {
            "text/plain": [
              "<Figure size 1200x600 with 1 Axes>"
            ],
            "image/png": "[encoded data removed]"
          },
          "metadata": {}
        }
      ],
      "source": [
        "def plot_yield_curve(date, fig_n):\n",
        "    maturities = ['1M', '3M', '6M', '1Y', '2Y', '3Y', '5Y', '7Y', '10Y', '20Y', '30Y'] # Maturities\n",
        "    fig, ax = plt.subplots(figsize=(12, 6))\n",
        "    ax.plot(maturities, yields.loc[date], marker='D', label='Yield Curve at ' + date)\n",
        "\n",
        "    ax.set_yticklabels(['{:.2f}%'.format(y) for y in ax.get_yticks()])\n",
        "    ax.set_xticks(range(len(maturities)))\n",
        "    ax.set_xticklabels(maturities)\n",
        "\n",
        "    # Add labels and title\n",
        "    ax.set_xlabel('Maturity')\n",
        "    ax.set_ylabel('Yield')\n",
        "    ax.set_title(fig_n+'Treasury Yield Curve')\n",
        "\n",
        "\n",
        "    fig.legend(loc = [0.69, 0.14])\n",
        "\n",
        "    # Show the plot\n",
        "    plt.grid(True)\n",
        "    plt.show()\n",
        "\n",
        "print(\"Figure 3\")\n",
        "plot_yield_curve('2020-01-10','Figure 3, ')\n"
      ]
    },
    {
      "cell_type": "markdown",
      "metadata": {
        "id": "SyK33Fj8oris"
      },
      "source": [
        "In this section, we are going to use a polynomial fitting technique to estimate a yield curve.\n",
        "<br>\n",
        "**Polynomial fitting** is when a researcher uses the nth degree of input variable polynomials to predict the output variable. For example, if the input variable is $x$ and the output variable is $y$, the following expression is to use the nth degree of $x$ polynomials to predict $y$.\n",
        "<br>\n",
        "*$$y=\\beta_{0}+\\beta_{1}x_{1}+\\beta_{2}x^{2}+\\beta_{3}x^{3}...+\\beta_{n}x^{n}$$*\n",
        "<br>\n",
        "$\\beta_{0},\\beta_{1},\\beta_{2},\\beta_{3},...,\\beta_{n}$ are parameters to be estimated.\n",
        "<br>\n",
        "<br>\n",
        "There are several polynomial fitting methods to fit a yield curve. In this lesson, we are going to learn two methods: the **Nelson Siegel model** and **cubic spline fitting**.\n",
        "<br>\n",
        "<br>\n",
        "### **4.1 Nelson Siegel Model**\n",
        "The **Nelson Siegel model (NS model)** is a popular model for describing the relationship between maturity and yield (Svensson). Here is the formula for the model:\n",
        "\n",
        "$$y(t)=\\beta_{0}+\\beta_{1}\\left( \\frac{1-e^{-\\lambda t}}{\\lambda t} \\right)+\\beta_{2}\\left( \\frac{1-e^{^{-\\lambda t}}}{\\lambda t}-e^{-\\lambda t} \\right)+\\epsilon$$\n",
        "<br>\n",
        "$\\beta_{0},\\beta_{1},\\beta_{2}$ are the parameters to be estimated. $t$ is the time to maturity and $\\lambda$ is the decay rate. The decay rate is between 0 and 1. $\\beta_{0}$ is used to describe the level of the yield curve. $\\beta_{1}$ is used to describe the slope of the yield curve and $\\beta_{2}$ is used to describe the shape of the yield curve. For this reason, we also call the NS model a **yield curve factor model**. The NS model decomposes the yield curve into three elements as described above.\n",
        "<br>\n",
        "How does the decay rate work? The smaller the decay rate, the slower the curve decays. The larger the decay rate, the faster the curve decays. The decay rate shows how fast the yield will converge to the long-term average.\n",
        "<br>\n",
        "With the NS model's simple structure, we can use different elements in the model to describe different yield curve behaviors. Once we have an estimated NS model, we can use the model to predict the action of future interest rate moves (Pape).\n",
        "<br>\n",
        "Let's use the Nelson Siegel Sevensson package from Python to demonstrate the NS model.\n",
        "<br>\n",
        "<br>\n",
        "### **4.2 Nelson Siegel Model: Python Demonstration**\n",
        "In this section, we are going to use the Nelson Siegel Sevensson package from Python to show how to fit a yield curve. First, we need to install and import the package."
      ]
    },
    {
      "cell_type": "code",
      "execution_count": 16,
      "metadata": {
        "colab": {
          "base_uri": "https://localhost:8080/"
        },
        "id": "oUK7UTiz3g14",
        "outputId": "8c5a3f55-5b8f-49fa-d1bb-00f0fa90ffa0",
        "tags": []
      },
      "outputs": [
        {
          "output_type": "stream",
          "name": "stdout",
          "text": [
            "Collecting nelson_siegel_svensson\n",
            "  Downloading nelson_siegel_svensson-0.5.0-py2.py3-none-any.whl.metadata (6.7 kB)\n",
            "Requirement already satisfied: Click>=8.0 in /usr/local/lib/python3.12/dist-packages (from nelson_siegel_svensson) (8.2.1)\n",
            "Requirement already satisfied: numpy>=1.22 in /usr/local/lib/python3.12/dist-packages (from nelson_siegel_svensson) (2.0.2)\n",
            "Requirement already satisfied: scipy>=1.7 in /usr/local/lib/python3.12/dist-packages (from nelson_siegel_svensson) (1.16.1)\n",
            "Requirement already satisfied: matplotlib>=3.5 in /usr/local/lib/python3.12/dist-packages (from nelson_siegel_svensson) (3.10.0)\n",
            "Requirement already satisfied: contourpy>=1.0.1 in /usr/local/lib/python3.12/dist-packages (from matplotlib>=3.5->nelson_siegel_svensson) (1.3.3)\n",
            "Requirement already satisfied: cycler>=0.10 in /usr/local/lib/python3.12/dist-packages (from matplotlib>=3.5->nelson_siegel_svensson) (0.12.1)\n",
            "Requirement already satisfied: fonttools>=4.22.0 in /usr/local/lib/python3.12/dist-packages (from matplotlib>=3.5->nelson_siegel_svensson) (4.59.2)\n",
            "Requirement already satisfied: kiwisolver>=1.3.1 in /usr/local/lib/python3.12/dist-packages (from matplotlib>=3.5->nelson_siegel_svensson) (1.4.9)\n",
            "Requirement already satisfied: packaging>=20.0 in /usr/local/lib/python3.12/dist-packages (from matplotlib>=3.5->nelson_siegel_svensson) (25.0)\n",
            "Requirement already satisfied: pillow>=8 in /usr/local/lib/python3.12/dist-packages (from matplotlib>=3.5->nelson_siegel_svensson) (11.3.0)\n",
            "Requirement already satisfied: pyparsing>=2.3.1 in /usr/local/lib/python3.12/dist-packages (from matplotlib>=3.5->nelson_siegel_svensson) (3.2.3)\n",
            "Requirement already satisfied: python-dateutil>=2.7 in /usr/local/lib/python3.12/dist-packages (from matplotlib>=3.5->nelson_siegel_svensson) (2.9.0.post0)\n",
            "Requirement already satisfied: six>=1.5 in /usr/local/lib/python3.12/dist-packages (from python-dateutil>=2.7->matplotlib>=3.5->nelson_siegel_svensson) (1.17.0)\n",
            "Downloading nelson_siegel_svensson-0.5.0-py2.py3-none-any.whl (9.9 kB)\n",
            "Installing collected packages: nelson_siegel_svensson\n",
            "Successfully installed nelson_siegel_svensson-0.5.0\n"
          ]
        }
      ],
      "source": [
        "!pip install nelson_siegel_svensson"
      ]
    },
    {
      "cell_type": "code",
      "execution_count": 17,
      "metadata": {
        "id": "MlH5MdbV4WAQ",
        "tags": []
      },
      "outputs": [],
      "source": [
        "# Import the packages for fitting NS model\n",
        "from nelson_siegel_svensson.calibrate import calibrate_ns_ols\n",
        "import numpy as np"
      ]
    },
    {
      "cell_type": "markdown",
      "metadata": {
        "id": "9M7WzEA84vNM"
      },
      "source": [
        "After importing the necessary packages for fitting the NS model, we need to create variables for modeling. We first need to create a maturity variable $t$ in terms of year. For example, 1 month is 0.08333 year and 3-month is 0.25 year. The next variable is the yield variable. Both maturity variable and yield variable need to be in an array form. We are going to use the yields from 2020 January 10th (2020-01-10) as our example since we just drew the yield curve on that day in the last section."
      ]
    },
    {
      "cell_type": "code",
      "execution_count": 18,
      "metadata": {
        "id": "MAt0t33X5mVQ",
        "tags": []
      },
      "outputs": [],
      "source": [
        "# Create maturity and yield variables in array form\n",
        "t = np.array([0.08333,0.25,0.5,1,2,3,5,7,10,20,30])\n",
        "y = np.array(yields.loc[\"2020-01-10\"])"
      ]
    },
    {
      "cell_type": "markdown",
      "metadata": {
        "id": "7nlGjBkv7dhV"
      },
      "source": [
        "Once the variables are ready, we can move to estimate the NS model."
      ]
    },
    {
      "cell_type": "code",
      "execution_count": 19,
      "metadata": {
        "colab": {
          "base_uri": "https://localhost:8080/"
        },
        "id": "mGWR5oP37mMi",
        "outputId": "e14e21a8-5aa4-4700-ae5e-5e8cba36e598",
        "tags": []
      },
      "outputs": [
        {
          "output_type": "stream",
          "name": "stdout",
          "text": [
            "NelsonSiegelCurve(beta0=np.float64(2.6376805704948407), beta1=np.float64(-1.1025856119805097), beta2=np.float64(-1.1406474347407198), tau=np.float64(4.750013241604026))\n"
          ]
        }
      ],
      "source": [
        "# Fit an NS model for yields from 2020-01-10\n",
        "curve, status = calibrate_ns_ols(t, y, tau0=1.0)  # starting value of 1.0 for the optimization of tau\n",
        "assert status.success\n",
        "print(curve)"
      ]
    },
    {
      "cell_type": "markdown",
      "metadata": {
        "id": "Kj3icKPG74KW"
      },
      "source": [
        "The NS model result shows the estimated $\\beta_{0}$, $\\beta_{1}$, $\\beta_{2}$, and decay rate. Now let's plot the graph to better understand the model result."
      ]
    },
    {
      "cell_type": "code",
      "execution_count": 20,
      "metadata": {
        "colab": {
          "base_uri": "https://localhost:8080/",
          "height": 497
        },
        "id": "iz5BiFDs9TXS",
        "outputId": "60e4fb37-979f-4f8c-f822-5e278f001df8",
        "tags": []
      },
      "outputs": [
        {
          "output_type": "execute_result",
          "data": {
            "text/plain": [
              "Text(0.5, 1.0, 'Figure 4, NS Model Result')"
            ]
          },
          "metadata": {},
          "execution_count": 20
        },
        {
          "output_type": "display_data",
          "data": {
            "text/plain": [
              "<Figure size 640x480 with 1 Axes>"
            ],
            "image/png": "[encoded data removed]"
          },
          "metadata": {}
        }
      ],
      "source": [
        "y_hat = curve\n",
        "t_hat = np.linspace(0.5,30,100)\n",
        "plt.plot(t_hat, y_hat(t_hat))\n",
        "plt.xlabel(\"Maturity\")\n",
        "plt.ylabel(\"Yield\")\n",
        "plt.title(\"Figure 4, NS Model Result\")"
      ]
    },
    {
      "cell_type": "markdown",
      "metadata": {
        "id": "JCIKm-Vs96B1"
      },
      "source": [
        "From the above Figure 4, we can see the estimated yield curve is a pretty good fit of the curve chart we drew in the previous section. Let's estimate a different shape of yield curve. This time, we'll use the yields from 2006 March 23rd (2006-03-23). First, let's draw the yield data from 2006-03-23."
      ]
    },
    {
      "cell_type": "code",
      "execution_count": 21,
      "metadata": {
        "colab": {
          "base_uri": "https://localhost:8080/",
          "height": 608
        },
        "id": "6ZUClpUTCABB",
        "outputId": "7b9fd7ef-5af0-44f8-f770-21e9ca397b74",
        "tags": []
      },
      "outputs": [
        {
          "output_type": "stream",
          "name": "stderr",
          "text": [
            "/tmp/ipython-input-1226209266.py:6: UserWarning: set_ticklabels() should only be used with a fixed number of ticks, i.e. after set_ticks() or using a FixedLocator.\n",
            "  ax.set_yticklabels(['{:.2f}%'.format(y) for y in ax.get_yticks()])\n"
          ]
        },
        {
          "output_type": "display_data",
          "data": {
            "text/plain": [
              "<Figure size 1200x600 with 1 Axes>"
            ],
            "image/png": "[encoded data removed]"
          },
          "metadata": {}
        }
      ],
      "source": [
        "plot_yield_curve('2006-03-23','Figure 5, ')\n"
      ]
    },
    {
      "cell_type": "markdown",
      "metadata": {
        "id": "HR7Gfu-gCN5U"
      },
      "source": [
        "In Figure 5, the yields from 6-month maturity to 10-year maturity demonstrate a downward slope shape, which is different from the yield curve at 2020-01-10. Let's see if the NS model will pick this up. We'll repeat the same process to model the yield curve on 2006-03-23."
      ]
    },
    {
      "cell_type": "code",
      "execution_count": 22,
      "metadata": {
        "colab": {
          "base_uri": "https://localhost:8080/"
        },
        "id": "YWeYh7LDCU67",
        "outputId": "2a9f9f41-23bc-48c5-8923-31c610334698",
        "tags": []
      },
      "outputs": [
        {
          "output_type": "stream",
          "name": "stdout",
          "text": [
            "NelsonSiegelCurve(beta0=np.float64(4.769301547213251), beta1=np.float64(-0.186085682255706), beta2=np.float64(0.2593711683729586), tau=np.float64(0.25704894665261885))\n"
          ]
        }
      ],
      "source": [
        "y = np.array(yields.loc[\"2006-03-23\"])\n",
        "curve, status = calibrate_ns_ols(t, y, tau0=0.5)  # starting value of 0.5 for the optimization of tau\n",
        "assert status.success\n",
        "print(curve)"
      ]
    },
    {
      "cell_type": "code",
      "execution_count": 24,
      "metadata": {
        "colab": {
          "base_uri": "https://localhost:8080/",
          "height": 497
        },
        "id": "UR9DskHjD2TA",
        "outputId": "12a4e460-9891-4bbe-c707-96de21928758",
        "tags": []
      },
      "outputs": [
        {
          "output_type": "execute_result",
          "data": {
            "text/plain": [
              "Text(0.5, 1.0, 'Figure 6, NS Model Result')"
            ]
          },
          "metadata": {},
          "execution_count": 24
        },
        {
          "output_type": "display_data",
          "data": {
            "text/plain": [
              "<Figure size 640x480 with 1 Axes>"
            ],
            "image/png": "[encoded data removed]"
          },
          "metadata": {}
        }
      ],
      "source": [
        "y_hat = curve\n",
        "t_hat = np.linspace(0.5,30,100)\n",
        "plt.plot(t_hat, y_hat(t_hat))\n",
        "plt.xlabel(\"Maturity\")\n",
        "plt.ylabel(\"Yield\")\n",
        "plt.title(\"Figure 6, NS Model Result\")"
      ]
    },
    {
      "cell_type": "markdown",
      "metadata": {
        "id": "Fs7aAjRgEKdZ"
      },
      "source": [
        "From the above Figure 6, we can see that the curve slopes downward after one year of maturity. This result is consistent with Figure 5, which we drew earlier."
      ]
    },
    {
      "cell_type": "markdown",
      "metadata": {
        "id": "BTA-1r2xSgtD"
      },
      "source": [
        "## **5. Cubic Spline Fitting of Yield Curve**\n",
        "In this section, we are going to introduce another popular method to fit a yield curve with data. It is called **cubic spline**. Spline fitting is a method under polynomial fitting. Please read the required reading \"Spine Method of Interpolation\" to study the theory of spline fitting, especially cubic spline fitting. We'll use the cubic spline fitting method in Python to fit a yield curve in the next section. Please be advised that in Lesson 4 \"Application of Quadratic Spline Interpolation\", there is a mistake in the note. In the big matrix presentation, the coefficient vector should be on the left-hand side of the equation, not the right-hand side.\n",
        "<br>\n",
        "<br>\n",
        "### **5.1 Python Application: Use Cubic Spline Fitting to Fit a Yield Curve**\n",
        "In this section, we'll demonstrate how to fit a yield curve cubic spline. For ease of demonstration, we will only use yields from 2-year, 5-year, 10-year, and 30-year Treasury bonds on 2020-01-10 as an example. Let's check the yields on 2020-01-10 first."
      ]
    },
    {
      "cell_type": "code",
      "execution_count": 25,
      "metadata": {
        "colab": {
          "base_uri": "https://localhost:8080/",
          "height": 429
        },
        "id": "dk71TAcWY8Nw",
        "outputId": "6462d2ed-e154-4e40-a894-561393f989bf",
        "tags": []
      },
      "outputs": [
        {
          "output_type": "execute_result",
          "data": {
            "text/plain": [
              "1 Month    1.52\n",
              "3 Month    1.54\n",
              "6 Month    1.55\n",
              "1 Year     1.53\n",
              "2 Year     1.56\n",
              "3 Year     1.59\n",
              "5 Year     1.63\n",
              "7 Year     1.74\n",
              "10 Year    1.83\n",
              "20 Year    2.14\n",
              "30 Year    2.28\n",
              "Name: 2020-01-10 00:00:00, dtype: float64"
            ],
            "text/html": [
              "<div>\n",
              "<style scoped>\n",
              "    .dataframe tbody tr th:only-of-type {\n",
              "        vertical-align: middle;\n",
              "    }\n",
              "\n",
              "    .dataframe tbody tr th {\n",
              "        vertical-align: top;\n",
              "    }\n",
              "\n",
              "    .dataframe thead th {\n",
              "        text-align: right;\n",
              "    }\n",
              "</style>\n",
              "<table border=\"1\" class=\"dataframe\">\n",
              "  <thead>\n",
              "    <tr style=\"text-align: right;\">\n",
              "      <th></th>\n",
              "      <th>2020-01-10</th>\n",
              "    </tr>\n",
              "  </thead>\n",
              "  <tbody>\n",
              "    <tr>\n",
              "      <th>1 Month</th>\n",
              "      <td>1.52</td>\n",
              "    </tr>\n",
              "    <tr>\n",
              "      <th>3 Month</th>\n",
              "      <td>1.54</td>\n",
              "    </tr>\n",
              "    <tr>\n",
              "      <th>6 Month</th>\n",
              "      <td>1.55</td>\n",
              "    </tr>\n",
              "    <tr>\n",
              "      <th>1 Year</th>\n",
              "      <td>1.53</td>\n",
              "    </tr>\n",
              "    <tr>\n",
              "      <th>2 Year</th>\n",
              "      <td>1.56</td>\n",
              "    </tr>\n",
              "    <tr>\n",
              "      <th>3 Year</th>\n",
              "      <td>1.59</td>\n",
              "    </tr>\n",
              "    <tr>\n",
              "      <th>5 Year</th>\n",
              "      <td>1.63</td>\n",
              "    </tr>\n",
              "    <tr>\n",
              "      <th>7 Year</th>\n",
              "      <td>1.74</td>\n",
              "    </tr>\n",
              "    <tr>\n",
              "      <th>10 Year</th>\n",
              "      <td>1.83</td>\n",
              "    </tr>\n",
              "    <tr>\n",
              "      <th>20 Year</th>\n",
              "      <td>2.14</td>\n",
              "    </tr>\n",
              "    <tr>\n",
              "      <th>30 Year</th>\n",
              "      <td>2.28</td>\n",
              "    </tr>\n",
              "  </tbody>\n",
              "</table>\n",
              "</div><br><label><b>dtype:</b> float64</label>"
            ]
          },
          "metadata": {},
          "execution_count": 25
        }
      ],
      "source": [
        "yields.loc[\"2020-01-10\"]"
      ]
    },
    {
      "cell_type": "markdown",
      "metadata": {
        "id": "2hzPWLlcTTB8"
      },
      "source": [
        "Let's define our maturity variable and yield variable as array forms."
      ]
    },
    {
      "cell_type": "code",
      "execution_count": 26,
      "metadata": {
        "id": "9wIHj_kHfW_c",
        "tags": []
      },
      "outputs": [],
      "source": [
        "t = np.array([2,5,10,30])\n",
        "y = np.array([1.56,1.63,1.83,2.28])"
      ]
    },
    {
      "cell_type": "markdown",
      "metadata": {
        "id": "LFObzfCETz6q"
      },
      "source": [
        "Now, let's write out the cubic spline equations first. Since we have 4 paired data points, there will be 3 splines.\n",
        "<br>\n",
        "<br>\n",
        "$$f\\left( x \\right)=a_{1}x^{3}+b_{1}x^{2}+c_{1}x+d_{1}, \\text{when }2\\le x\\le 5$$\n",
        "$$f\\left( x \\right)=a_{2}x^{3}+b_{2}x^{2}+c_{2}x+d_{2}, \\text{when }5\\le x\\le 10$$\n",
        "$$f\\left( x \\right)=a_{3}x^{3}+b_{3}x^{2}+c_{3}x+d_{3}, \\text{when }10\\le x\\le 30$$\n",
        "<br>\n",
        "<br>\n",
        "From the above equations, we have 12 unknowns. Hence, we need 12 equations to solve for the 12 parameters. Let's write out the equations that each cubic spline function would go through at two consecutive data points.\n",
        "<br>\n",
        "<br>\n",
        "$$a_{1}(2)^{3}+b_{1}(2)^{2}+c_{1}(2)+d_{1}=1.56\\;\\;\\;(1)$$\n",
        "$$a_{1}(5)^{3}+b_{1}(5)^{2}+c_{1}(5)+d_{1}=1.63\\;\\;\\;(2)$$\n",
        "<br>\n",
        "<br>\n",
        "$$a_{2}(5)^{3}+b_{2}(5)^{2}+c_{2}(5)+d_{2}=1.63\\;\\;\\;(3)$$\n",
        "$$a_{2}(10)^{3}+b_{2}(10)^{2}+c_{2}(10)+d_{2}=1.83\\;\\;\\;(4)$$\n",
        "<br>\n",
        "<br>\n",
        "$$a_{3}(10)^{3}+b_{3}(10)^{2}+c_{3}(10)+d_{3}=1.83\\;\\;\\;(5)$$\n",
        "$$a_{3}(30)^{3}+b_{3}(30)^{2}+c_{3}(30)+d_{3}=2.28\\;\\;\\;(6)$$\n",
        "<br>\n",
        "<br>\n",
        "Now, let's write down the equations that show the first derivatives of two consecutive cubic splines being continuous at the common interior points.\n",
        "<br>\n",
        "<br>\n",
        "$$3a_{1}(5)^{2}+2b_{1}(5)+c_{1}=3a_{2}(5)^{2}+2b_{2}(5)+c_{2}\\;\\;\\;(7)$$\n",
        "$$3a_{2}(10)^{2}+2b_{2}(10)+c_{2}=3a_{3}(10)^{2}+2b_{3}(10)+c_{3}\\;\\;\\;(8)$$\n",
        "<br>\n",
        "<br>\n",
        "And then we'll write the equations that show the second derivatives of two consecutive cubic splines being continuous at the common interior points.\n",
        "<br>\n",
        "<br>\n",
        "$$6a_{1}(5)+2b_{1}=6a_{2}(5)+2b_{2}\\;\\;\\;(9)$$\n",
        "$$6a_{2}(10)+2b_{2}=6a_{3}(10)+2b_{3}\\;\\;\\;(10)$$\n",
        "<br>\n",
        "<br>\n",
        "The last two equations are boundary conditions. We set the second derivatives of the cubic splines at the end points to be zeroes.\n",
        "<br>\n",
        "<br>\n",
        "$$6a_{1}(2)+2b_{1}=0\\;\\;\\;(11)$$\n",
        "$$6a_{3}(30)+2b_{3}=0\\;\\;\\;(12)$$\n",
        "<br>\n",
        "<br>\n",
        "Now we have 12 equations to solve for 12 parameters. We can write the whole problem as a big matrix equation.\n",
        "<br>\n",
        "<br>\n",
        "$$\\begin{bmatrix}\n",
        "8 & 4 & 2 & 1 & 0 & 0 & 0 & 0 & 0 & 0 & 0 & 0 \\\\\n",
        "125 & 25 & 5 & 1 & 0 & 0 & 0 & 0 & 0 & 0 & 0 & 0 \\\\\n",
        " 0 & 0 & 0 & 0 & 125 & 25 & 5 & 1 & 0 & 0 & 0 & 0 \\\\\n",
        " 0 & 0 & 0 & 0 & 1000 & 100 & 10 & 1 & 0 & 0 & 0 & 0 \\\\\n",
        " 0 & 0 & 0 & 0 & 0 & 0 & 0 & 0 & 1000 & 100 & 10 & 1 \\\\\n",
        " 0 & 0 & 0 & 0 & 0 & 0 & 0 & 0 & 27000 & 900 & 30 & 1 \\\\\n",
        " 75 & 10 & 1 & 0 & -75 & -10 & -1 & 0 & 0 & 0 & 0 & 0 \\\\\n",
        " 0 & 0 & 0 & 0 & 300 & 20 & 1 & 0 & -300 & -20 & -1 & 0 \\\\\n",
        " 30 & 2 & 0 & 0 & -30 & -2 & 0 & 0 & 0 & 0 & 0 & 0 \\\\\n",
        " 0 & 0 & 0 & 0 & 60 & 2 & 0 & 0 & -60 & -2 & 0 & 0 \\\\\n",
        " 12 & 2 & 0 & 0 & 0 & 0 & 0 & 0 & 0 & 0 & 0 & 0 \\\\\n",
        " 0 & 0 & 0 & 0 & 0 & 0 & 0 & 0 & 180 & 2 & 0 & 0\n",
        "\\end{bmatrix}\\bullet\\begin{bmatrix}\n",
        "a_{1} \\\\\n",
        "b_{1} \\\\\n",
        "c_{1} \\\\\n",
        "d_{1} \\\\\n",
        "a_{2} \\\\\n",
        "b_{2} \\\\\n",
        "c_{2} \\\\\n",
        "d_{2} \\\\\n",
        "a_{3} \\\\\n",
        "b_{3} \\\\\n",
        "c_{3} \\\\\n",
        "d_{3}\n",
        "\\end{bmatrix}=\\begin{bmatrix}\n",
        "1.56 \\\\\n",
        "1.63 \\\\\n",
        "1.63 \\\\\n",
        "1.83 \\\\\n",
        "1.83 \\\\\n",
        "2.28 \\\\\n",
        "0 \\\\\n",
        "0 \\\\\n",
        "0 \\\\\n",
        "0 \\\\\n",
        "0 \\\\\n",
        "0\n",
        "\\end{bmatrix}$$\n",
        "<br>\n",
        "<br>\n",
        "We can write the above matrix equation as the following equation:\n",
        "<br>\n",
        "<br>\n",
        "$$A\\bullet c=y$$\n",
        "<br>\n",
        "<br>\n",
        "$A$ is the squared matrix. $c$ is the coefficient vector and $y$ is the output vector. In order to solve for $c$, we will use the following linear algebra rule.\n",
        "<br>\n",
        "<br>\n",
        "$$c=A^{-1}\\bullet y$$\n",
        "<br>\n",
        "<br>\n",
        "$A^{-1}$ is the inverse of the squared matrix. The following Python code is used to solve for the coefficient vector."
      ]
    },
    {
      "cell_type": "code",
      "execution_count": 27,
      "metadata": {
        "id": "4IsWrgs1y9WQ",
        "tags": []
      },
      "outputs": [],
      "source": [
        "# Create output vector y (out variable) and squared matrix A (input variable)\n",
        "out = np.array([1.56,1.63,1.63,1.83,1.83,2.28,0,0,0,0,0,0])\n",
        "input = np.array([[8,4,2,1,0,0,0,0,0,0,0,0],[125,25,5,1,0,0,0,0,0,0,0,0],[0,0,0,0,125,25,5,1,0,0,0,0],[0,0,0,0,1000,100,10,1,0,0,0,0], \\\n",
        "                  [0,0,0,0,0,0,0,0,1000,100,10,1],[0,0,0,0,0,0,0,0,27000,900,30,1],[75,10,1,0,-75,-10,-1,0,0,0,0,0],[0,0,0,0,300,20,1,0,-300,-20,-1,0], \\\n",
        "                  [30,2,0,0,-30,-2,0,0,0,0,0,0],[0,0,0,0,60,2,0,0,-60,-2,0,0],[12,2,0,0,0,0,0,0,0,0,0,0],[0,0,0,0,0,0,0,0,180,2,0,0]])"
      ]
    },
    {
      "cell_type": "code",
      "execution_count": 28,
      "metadata": {
        "colab": {
          "base_uri": "https://localhost:8080/"
        },
        "id": "cRzvUcyX1pSP",
        "outputId": "c453371b-aeff-4303-db60-aaffd38dd173",
        "tags": []
      },
      "outputs": [
        {
          "output_type": "execute_result",
          "data": {
            "text/plain": [
              "array([[ 3.96060000e-04, -2.37634000e-03,  2.45215100e-02,\n",
              "         1.51729391e+00],\n",
              "       [-3.31400000e-04,  8.53548000e-03, -3.00376300e-02,\n",
              "         1.60822581e+00],\n",
              "       [ 2.34400000e-05, -2.10968000e-03,  7.64139800e-02,\n",
              "         1.25338710e+00]])"
            ]
          },
          "metadata": {},
          "execution_count": 28
        }
      ],
      "source": [
        "# Solve for coefficient vector and reshape to an 3 by 4 array (lines variable)\n",
        "# Make sure to give enough decimals since all coefficients are relatively small. If there is not decimal points, the following coefficient results and graphs will be rough\n",
        "lines = np.round(np.dot(np.linalg.inv(input), out).reshape(-1,4),decimals=8)\n",
        "lines"
      ]
    },
    {
      "cell_type": "markdown",
      "metadata": {
        "id": "0FaUwSz-erTY"
      },
      "source": [
        "From the above result, we can see the coefficients are presented as a 3 X 4 array.\n",
        "<br>\n",
        "<br>\n",
        "$$\\begin{bmatrix}\n",
        "a_{1} & b_{1} & c_{1} & d_{1} \\\\\n",
        "a_{2} & b_{2} & c_{2} & d_{2}  \\\\\n",
        "a_{3} & b_{3} & c_{3} & d_{3}\n",
        "\\end{bmatrix}$$\n",
        "<br>\n",
        "<br>\n",
        "Now we can draw a smooth curve from maturity 2 to maturity 30 using Python."
      ]
    },
    {
      "cell_type": "code",
      "execution_count": 29,
      "metadata": {
        "id": "AEwoGzXHWotr",
        "tags": []
      },
      "outputs": [],
      "source": [
        "# Calculates x**0 + x**1 + x**2 + x**3\n",
        "def plot_num(values, coeffs):\n",
        "    # Coeffs are assumed to be in order 0, 1, ..., n-1\n",
        "    expanded = np.hstack([coeffs[i] * (values ** i) for i in range(0, len(coeffs))])\n",
        "    return np.sum(expanded, axis=1)\n"
      ]
    },
    {
      "cell_type": "code",
      "execution_count": 30,
      "metadata": {
        "colab": {
          "base_uri": "https://localhost:8080/",
          "height": 480
        },
        "id": "6xeOkCGKLiUo",
        "outputId": "d85bc3e4-8c3f-4c69-92f0-56187771ead7",
        "tags": []
      },
      "outputs": [
        {
          "output_type": "display_data",
          "data": {
            "text/plain": [
              "<Figure size 640x480 with 1 Axes>"
            ],
            "image/png": "[encoded data removed]"
          },
          "metadata": {}
        }
      ],
      "source": [
        "# Simulate the 100 paired data points and draw the graph\n",
        "xs = np.linspace(2,30, 100)\n",
        "\n",
        "y1s = plot_num(xs[xs<5].reshape(-1,1), lines[0][::-1])\n",
        "y2s = plot_num(xs[(xs>=5) & (xs<10)].reshape(-1,1), lines[1][::-1])\n",
        "y3s = plot_num(xs[xs>=10].reshape(-1,1), lines[2][::-1])\n",
        "ys = np.concatenate([y1s, y2s, y3s])\n",
        "\n",
        "\n",
        "plt.plot(xs, ys)\n",
        "plt.scatter(t, y,c=\"red\")\n",
        "plt.xlabel(\"Maturity\")\n",
        "plt.ylabel(\"Yield\")\n",
        "plt.title(\"Figure 7\")\n",
        "plt.show()\n"
      ]
    },
    {
      "cell_type": "markdown",
      "metadata": {
        "id": "aIX7W4TRvKpg"
      },
      "source": [
        "The above Figure 7 shows the estimated yield curve on 2020-01-10 using the cubic spline fitting method. We can see with the cubic spline that the line between two data points is not a straight line but a curve. With this estimated curve, we can calculate the yield for any maturity occurring on this curve for bond pricing or other yield analyses.\n",
        "<br>\n",
        "Once we build this yield curve, we can use this curve to obtain discount factors for any future cash flows. Summing all the discounted future cash flows from an asset, we can get the present value of the asset and evaluate whether the current price is overvaluing or undervaluing the asset.\n"
      ]
    },
    {
      "cell_type": "markdown",
      "metadata": {
        "id": "PRo2wFOGtwFg"
      },
      "source": [
        "## **6. Conclusion**\n",
        "\n",
        "In this lesson, we first learned what the risk-free rate is. Then, we calculated the volatility of U.S. Treasury bonds of different maturities. We also learned two methods of fitting a yield curve using the Nelson Siegel method and cubic spline method. We finished with a demonstration of how to implement these two methods to fit a U.S. Treasury yield curve in Python."
      ]
    },
    {
      "cell_type": "markdown",
      "metadata": {
        "id": "rKKS0keOFrc1"
      },
      "source": [
        "**References**\n",
        "<br>\n",
        "* Pape. \"Understanding the Nelson-Siegel-Svensson (NSS) Model for Bond Yield Curve Analysis.\" Medium, 2024 May 12. https://medium.com/@pape14/understanding-the-nelson-siegel-svensson-nss-model-for-bond-yield-curve-analysis-2a23202cbf6b.\n",
        "\n",
        "* Svensson, Lars. \"Estimating and Interpreting Forward Interest Rates: Sweden 1992-1994.\" *NBER Working Paper Series*, no. 4871, 1994.\n",
        "<br>"
      ]
    },
    {
      "cell_type": "markdown",
      "metadata": {
        "deletable": false,
        "editable": false,
        "id": "KvTOJQ-GFrc1"
      },
      "source": [
        "Copyright 2024 WorldQuant University. This content is licensed solely for personal use. Redistribution or publication of this material is strictly prohibited."
      ]
    }
  ],
  "metadata": {
    "colab": {
      "provenance": [],
      "include_colab_link": true
    },
    "kernelspec": {
      "display_name": "Python 3 (ipykernel)",
      "language": "python",
      "name": "python3"
    },
    "language_info": {
      "codemirror_mode": {
        "name": "ipython",
        "version": 3
      },
      "file_extension": ".py",
      "mimetype": "text/x-python",
      "name": "python",
      "nbconvert_exporter": "python",
      "pygments_lexer": "ipython3",
      "version": "3.11.0"
    }
  },
  "nbformat": 4,
  "nbformat_minor": 0
}